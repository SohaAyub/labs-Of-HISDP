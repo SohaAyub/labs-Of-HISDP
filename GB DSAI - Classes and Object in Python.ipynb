{
 "cells": [
  {
   "cell_type": "markdown",
   "id": "2df5c141",
   "metadata": {},
   "source": [
    "# Class\n",
    "- **Class**: A blueprint for creating objects (instances). It defines a set of attributes and methods that the objects created from the class will have.\n",
    "\n",
    "- **Attributes**: Variables that hold data specific to the object. These are defined within a class and accessed through the object.\n",
    "\n",
    "- **Methods**: Functions defined within a class that describe the behaviors of an object. These methods can manipulate object attributes or perform other actions.\n",
    "\n",
    "- **Constructor (`__init__` method)**: A special method called when an object is created from a class. It initializes the object's attributes.\n",
    "\n",
    "- **Instance**: An individual object created using a class. Each instance has its own copy of the class's attributes and methods.\n",
    "**`self` in Python**:\n",
    "\n",
    "- `self` is a reference to the current instance of the class. It is used to access variables and methods that belong to the class.\n",
    "- When you create an object of a class, `self` allows you to work with the object's attributes and methods within the class's methods.\n",
    "- The `self` parameter is required when defining methods in a class. It must be the first parameter of any method in the class.\n",
    "- While `self` is not a keyword in Python, it is a strong convention, and you should always use it to maintain code consistency and readability.\n"
   ]
  },
  {
   "cell_type": "code",
   "execution_count": null,
   "id": "2c339d95",
   "metadata": {},
   "outputs": [],
   "source": [
    "class Dog:\n",
    "    pass"
   ]
  },
  {
   "cell_type": "markdown",
   "id": "6f04bcd5",
   "metadata": {},
   "source": [
    "# Python Class Example: Creating and Initializing a Dog Object\n"
   ]
  },
  {
   "cell_type": "code",
   "execution_count": null,
   "id": "815e514d",
   "metadata": {
    "scrolled": true
   },
   "outputs": [],
   "source": [
    "class Dog:\n",
    "    def __init__(self, name, age, breed):\n",
    "        self.name = name\n",
    "        self.age = age\n",
    "        self.breed = breed\n",
    "\n",
    "var1 = Dog('Jack', 2, 'Bulldog')\n",
    "print(var1.name)\n",
    "print(var1.age)\n",
    "print(var1.breed)"
   ]
  },
  {
   "cell_type": "code",
   "execution_count": null,
   "id": "ed835f10",
   "metadata": {},
   "outputs": [],
   "source": [
    "class Dog:\n",
    "    def __init__(self, name, age, breed):\n",
    "        self.name = name\n",
    "        self.age = age\n",
    "        self.breed = breed\n",
    "    def show_name(self):\n",
    "        print(f'Name of Dog is: {self.name}')\n",
    "\n",
    "var1 = Dog('Jack', 2, 'Bulldog')\n",
    "var1.show_name()"
   ]
  },
  {
   "cell_type": "markdown",
   "id": "a7559f55",
   "metadata": {},
   "source": [
    "# Python Class Example: Defining and Using Methods in a Dog Object\n"
   ]
  },
  {
   "cell_type": "code",
   "execution_count": null,
   "id": "d7d538a0",
   "metadata": {},
   "outputs": [],
   "source": [
    "class Dog:\n",
    "    def __init__(self, name, age, breed):\n",
    "        self.name = name\n",
    "        self.age = age\n",
    "        self.breed = breed\n",
    "    def show_name(self):\n",
    "        print(f'Name of Dog is: {self.name}')\n",
    "    \n",
    "    def show_age(self):\n",
    "        print(f'Age of Dog is: {self.age}')\n",
    "    \n",
    "    def show_breed(self):\n",
    "        print(f'Breed of Dog is: {self.breed}')\n",
    "    def bark(self):\n",
    "        print(f\"{self.name} says woof\")\n",
    "\n",
    "var1 = Dog('Jack', 2, 'Bulldog')\n",
    "var1.show_name()\n",
    "var1.show_age()\n",
    "var1.show_breed()\n",
    "var1.bark()"
   ]
  },
  {
   "cell_type": "markdown",
   "id": "a4dee1b2",
   "metadata": {},
   "source": [
    "# Python Class Example: Simulating Bank Account Operations with Deposit and Withdrawal Methods\n"
   ]
  },
  {
   "cell_type": "code",
   "execution_count": null,
   "id": "25a76a06",
   "metadata": {},
   "outputs": [],
   "source": [
    "class BankAccount:\n",
    "    def __init__(self, owner, balance=0):\n",
    "        self.owner = owner\n",
    "        self.balance = balance\n",
    "\n",
    "    def deposit(self, amount):\n",
    "        print(\"Amount Deposited: \", amount)\n",
    "        self.balance += amount\n",
    "        print(\"Total Balance: \", self.balance)\n",
    "\n",
    "    def withdraw(self, amount):\n",
    "        if amount > self.balance:\n",
    "            print(\"Insufficient Balance\")\n",
    "        else:\n",
    "            self.balance = self.balance - amount\n",
    "            print(f\"{amount} is withdrawn\")\n",
    "\n",
    "    def get_balance(self):\n",
    "        return self.balance\n",
    "obj1 = BankAccount(\"ABC\", 1300)\n",
    "obj1.deposit(9000)\n",
    "print(\"Current Balance: \", obj1.get_balance())\n",
    "obj1.withdraw(5000)\n",
    "print(\"Current Balance: \", obj1.get_balance())\n"
   ]
  },
  {
   "cell_type": "markdown",
   "id": "85841457",
   "metadata": {},
   "source": [
    "# Python Class Example: Managing Employee Information with Methods for Full Name, Email, Salary, and Department\n"
   ]
  },
  {
   "cell_type": "code",
   "execution_count": null,
   "id": "8077daaa",
   "metadata": {},
   "outputs": [],
   "source": [
    "class employInformation():\n",
    "    def __init__(self,fname,sname,salary,department):\n",
    "        self.fname=fname\n",
    "        self.sname=sname\n",
    "        self.salary=salary\n",
    "        self.department=department\n",
    "    def fullName(self):\n",
    "        print(f'Full name: {self.fname+\" \"+self.sname}')\n",
    "    def email(self):\n",
    "        print(f'Email: {self.fname+self.sname+\"@gmail.com\"}')\n",
    "    def employ_department(self):\n",
    "        print(f'Department: {self.department}')\n",
    "    def employ_salary(self):\n",
    "        print(f'Salary:',self.salary)\n",
    "obj=employInformation('XYZ','ABC',3000,'Management')\n",
    "obj.fullName()\n",
    "obj.email()\n",
    "obj.employ_salary()\n",
    "obj.employ_department()"
   ]
  },
  {
   "cell_type": "markdown",
   "id": "2755143a",
   "metadata": {},
   "source": [
    "# Lab Task "
   ]
  },
  {
   "cell_type": "code",
   "execution_count": null,
   "id": "d6837f94",
   "metadata": {},
   "outputs": [],
   "source": [
    "#Write a Python class called Rectangle that has attributes length and width. \n",
    "#Implement methods to calculate the area and perimeter of the rectangle."
   ]
  },
  {
   "cell_type": "code",
   "execution_count": null,
   "id": "af687832",
   "metadata": {},
   "outputs": [],
   "source": [
    "class Rectangle():\n",
    "    def __init__(self,length,width):\n",
    "        self.length=length\n",
    "        self.width=width\n",
    "    def Area(self):\n",
    "        area=self.length*self.width\n",
    "        print(f\"Area of Rectangle is: {area}\")\n",
    "obj=Rectangle(12,34)\n",
    "obj.Area()"
   ]
  },
  {
   "cell_type": "markdown",
   "id": "b9f12233",
   "metadata": {},
   "source": [
    "# Practice Questions: Classes and Objects in Python\n",
    "\n",
    "## 1. Basic Class and Object Creation\n",
    "- Create a class called `Book` with attributes `title`, `author`, and `pages`. Write a method to display the book information. Then, create an object of the `Book` class and print its details.\n",
    "\n",
    "## 2. Working with Multiple Methods\n",
    "- Define a class called `Student` with attributes `name` and `grade`. Add methods to display the student's name, grade, and check if the student passed the course (a grade above 50 is considered passing). Create an object and test all the methods.\n",
    "\n",
    "## 3. Using Default Values in Constructors\n",
    "- Create a class `Product` with attributes `name`, `price`, and `quantity`, where `quantity` has a default value of 1. Write methods to update the price and quantity. Create an object and update its price and quantity.\n"
   ]
  },
  {
   "cell_type": "code",
   "execution_count": 1,
   "id": "76548dd3",
   "metadata": {},
   "outputs": [
    {
     "name": "stdout",
     "output_type": "stream",
     "text": [
      "Breed of Dog is: Husky\n",
      "Origin of Husky is: Siberia\n",
      "Tom says woof\n"
     ]
    }
   ],
   "source": [
    "class Dog:\n",
    "    def __init__(self, name, age, breed):\n",
    "        self.name = name\n",
    "        self.age = age\n",
    "        self.breed = breed\n",
    "    \n",
    "    def show_name(self):\n",
    "        print(\"Name of Dog is:\", self.name)\n",
    "    \n",
    "    def show_age(self):\n",
    "        print(\"Age of Dog is:\", self.age)\n",
    "    \n",
    "    def show_breed(self):\n",
    "        print(\"Breed of Dog is:\", self.breed)\n",
    "    \n",
    "    def bark(self):\n",
    "        print(f'{self.name} says woof')\n",
    "\n",
    "class Husky(Dog):\n",
    "    def __init__(self, name, age, breed, origin):\n",
    "        super().__init__(name, age, breed)\n",
    "        self.origin = origin\n",
    "    \n",
    "    def show_origin(self):\n",
    "        print(f'Origin of Husky is: {self.origin}')\n",
    "        super().bark()\n",
    "\n",
    "var1 = Dog('Jack', 2, 'Bulldog')\n",
    "var2 = Husky('Tom', 2, 'Husky', 'Siberia')\n",
    "var2.show_breed() \n",
    "var2.show_origin() "
   ]
  },
  {
   "cell_type": "code",
   "execution_count": 2,
   "id": "66aa2c7b",
   "metadata": {},
   "outputs": [
    {
     "name": "stdout",
     "output_type": "stream",
     "text": [
      "Vehicle started. 2020 Toyota XLI is ready to go.\n"
     ]
    }
   ],
   "source": [
    "class Vehicle:\n",
    "    def __init__(self, make, model):\n",
    "        self.make = make\n",
    "        self.model = model\n",
    "    def start(self):\n",
    "        return \"Vehicle started.\"\n",
    "class Car(Vehicle):\n",
    "    def __init__(self, make, model, year):\n",
    "        super().__init__(make, model)\n",
    "        self.year = year\n",
    "    \n",
    "    def start(self):\n",
    "        base_start = super().start()\n",
    "        return f\"{base_start} {self.year} {self.make} {self.model} is ready to go.\"\n",
    "\n",
    "car = Car(\"Toyota\", \"XLI\", 2020)\n",
    "print(car.start())"
   ]
  },
  {
   "cell_type": "code",
   "execution_count": 3,
   "id": "17bbddab",
   "metadata": {},
   "outputs": [
    {
     "name": "stdout",
     "output_type": "stream",
     "text": [
      "8\n",
      "6.0\n",
      "Hello, World!\n"
     ]
    }
   ],
   "source": [
    "def add(a, b):\n",
    "    return a + b\n",
    "\n",
    "print(add(5, 3))        \n",
    "print(add(2.5, 3.5))    \n",
    "print(add(\"Hello, \", \"World!\"))  \n"
   ]
  },
  {
   "cell_type": "code",
   "execution_count": 4,
   "id": "fe6754a3",
   "metadata": {},
   "outputs": [
    {
     "name": "stdout",
     "output_type": "stream",
     "text": [
      "Woof\n",
      "Meow\n"
     ]
    }
   ],
   "source": [
    "class Animal:\n",
    "    def make_sound(self):\n",
    "        pass\n",
    "\n",
    "class Dog(Animal):\n",
    "    def make_sound(self):\n",
    "        return \"Woof\"\n",
    "\n",
    "class Cat(Animal):\n",
    "    def make_sound(self):\n",
    "        return \"Meow\"\n",
    "\n",
    "def print_animal_sound(animal):\n",
    "    print(animal.make_sound())\n",
    "\n",
    "dog = Dog()\n",
    "cat = Cat()\n",
    "\n",
    "print_animal_sound(dog)\n",
    "print_animal_sound(cat)  \n"
   ]
  },
  {
   "cell_type": "code",
   "execution_count": 5,
   "id": "4c34500e",
   "metadata": {},
   "outputs": [
    {
     "name": "stdout",
     "output_type": "stream",
     "text": [
      "Rectangle area: 20\n",
      "Circle area: 28.274333882308138\n"
     ]
    }
   ],
   "source": [
    "import math\n",
    "\n",
    "class Shape:\n",
    "    def area(self):\n",
    "        pass\n",
    "\n",
    "class Rectangle(Shape):\n",
    "    def __init__(self, width, height):\n",
    "        self.width = width\n",
    "        self.height = height\n",
    "\n",
    "    def area(self):\n",
    "        return self.width * self.height\n",
    "\n",
    "class Circle(Shape):\n",
    "    def __init__(self, radius):\n",
    "        self.radius = radius\n",
    "\n",
    "    def area(self):\n",
    "        return math.pi * self.radius * self.radius\n",
    "\n",
    "rectangle = Rectangle(4, 5)\n",
    "circle = Circle(3)\n",
    "\n",
    "print(\"Rectangle area:\", rectangle.area())\n",
    "print(\"Circle area:\", circle.area())       \n"
   ]
  },
  {
   "cell_type": "code",
   "execution_count": 6,
   "id": "e539faa1",
   "metadata": {},
   "outputs": [
    {
     "name": "stdout",
     "output_type": "stream",
     "text": [
      "The perimeter is: 20\n",
      "The perimeter is: 12\n"
     ]
    }
   ],
   "source": [
    "class Shape:\n",
    "    def perimeter(self):\n",
    "        pass\n",
    "class Square(Shape):\n",
    "    def __init__(self, side):\n",
    "        self.side = side\n",
    "\n",
    "    def perimeter(self):\n",
    "        return 4 * self.side\n",
    "\n",
    "class Triangle(Shape):\n",
    "    def __init__(self, side1, side2, side3):\n",
    "        self.side1 = side1\n",
    "        self.side2 = side2\n",
    "        self.side3 = side3\n",
    "\n",
    "    def perimeter(self):\n",
    "        return self.side1 + self.side2 + self.side3\n",
    "def print_shape_perimeter(shape):\n",
    "    print(f\"The perimeter is: {shape.perimeter()}\")\n",
    "\n",
    "\n",
    "sq = Square(5)\n",
    "tri = Triangle(3, 4, 5)\n",
    "\n",
    "print_shape_perimeter(sq)\n",
    "print_shape_perimeter(tri)  \n"
   ]
  },
  {
   "cell_type": "code",
   "execution_count": null,
   "id": "5d50d7a2",
   "metadata": {},
   "outputs": [],
   "source": []
  }
 ],
 "metadata": {
  "kernelspec": {
   "display_name": "Python 3 (ipykernel)",
   "language": "python",
   "name": "python3"
  },
  "language_info": {
   "codemirror_mode": {
    "name": "ipython",
    "version": 3
   },
   "file_extension": ".py",
   "mimetype": "text/x-python",
   "name": "python",
   "nbconvert_exporter": "python",
   "pygments_lexer": "ipython3",
   "version": "3.9.12"
  }
 },
 "nbformat": 4,
 "nbformat_minor": 5
}
