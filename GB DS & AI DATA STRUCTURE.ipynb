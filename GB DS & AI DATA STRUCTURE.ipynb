{
 "cells": [
  {
   "cell_type": "markdown",
   "id": "9ce647e7",
   "metadata": {},
   "source": [
    "## LIST"
   ]
  },
  {
   "cell_type": "code",
   "execution_count": null,
   "id": "bf1a1295",
   "metadata": {},
   "outputs": [],
   "source": [
    "A=[12,13,\"Apple\"]\n",
    "print(A)"
   ]
  },
  {
   "cell_type": "code",
   "execution_count": null,
   "id": "2846ab30",
   "metadata": {},
   "outputs": [],
   "source": [
    "print(len(A))"
   ]
  },
  {
   "cell_type": "code",
   "execution_count": null,
   "id": "77c4b5ea",
   "metadata": {},
   "outputs": [],
   "source": [
    "A[0]=\"Pineapple\"\n",
    "A"
   ]
  },
  {
   "cell_type": "code",
   "execution_count": null,
   "id": "65098623",
   "metadata": {},
   "outputs": [],
   "source": [
    "A[-3]"
   ]
  },
  {
   "cell_type": "code",
   "execution_count": null,
   "id": "ba04fc97",
   "metadata": {},
   "outputs": [],
   "source": [
    "A[-2]"
   ]
  },
  {
   "cell_type": "code",
   "execution_count": null,
   "id": "282bee16",
   "metadata": {},
   "outputs": [],
   "source": [
    "A= [\"apple\", \"banana\", \"cherry\", \"orange\", \"kiwi\", \"mango\"]\n",
    "A[-6:]"
   ]
  },
  {
   "cell_type": "code",
   "execution_count": null,
   "id": "20d08a36",
   "metadata": {},
   "outputs": [],
   "source": [
    "A= [\"apple\", \"banana\", \"cherry\", \"orange\", \"kiwi\", \"mango\"]\n",
    "A[1:3] = [\"blackcurrant\", \"watermelon\"]\n",
    "A"
   ]
  },
  {
   "cell_type": "code",
   "execution_count": null,
   "id": "3fc5ad7a",
   "metadata": {},
   "outputs": [],
   "source": [
    "A.append(1)\n",
    "A"
   ]
  },
  {
   "cell_type": "code",
   "execution_count": null,
   "id": "d40a788f",
   "metadata": {},
   "outputs": [],
   "source": [
    "A.insert(2,\"Vector\")\n",
    "A"
   ]
  },
  {
   "cell_type": "code",
   "execution_count": null,
   "id": "b4d0f1f9",
   "metadata": {},
   "outputs": [],
   "source": [
    "A.append(\"Water\")\n",
    "A"
   ]
  },
  {
   "cell_type": "code",
   "execution_count": null,
   "id": "b839b644",
   "metadata": {},
   "outputs": [],
   "source": [
    "A.pop()\n",
    "A"
   ]
  },
  {
   "cell_type": "code",
   "execution_count": null,
   "id": "18bc00d4",
   "metadata": {},
   "outputs": [],
   "source": [
    "A.remove(\"Vector\")"
   ]
  },
  {
   "cell_type": "code",
   "execution_count": null,
   "id": "031669d0",
   "metadata": {},
   "outputs": [],
   "source": [
    "A"
   ]
  },
  {
   "cell_type": "code",
   "execution_count": null,
   "id": "e05732e7",
   "metadata": {},
   "outputs": [],
   "source": [
    "del A[0]\n",
    "A"
   ]
  },
  {
   "cell_type": "code",
   "execution_count": null,
   "id": "42a5c180",
   "metadata": {},
   "outputs": [],
   "source": [
    "A.clear()\n",
    "A"
   ]
  },
  {
   "cell_type": "code",
   "execution_count": null,
   "id": "5f60743a",
   "metadata": {},
   "outputs": [],
   "source": [
    "A=[12,13,\"Apple\"]"
   ]
  },
  {
   "cell_type": "code",
   "execution_count": null,
   "id": "47b2fcc1",
   "metadata": {},
   "outputs": [],
   "source": [
    "A = [\"abc\", 34, True, 40, \"male\"]"
   ]
  },
  {
   "cell_type": "code",
   "execution_count": null,
   "id": "20a4ffb2",
   "metadata": {},
   "outputs": [],
   "source": [
    "type(A)"
   ]
  },
  {
   "cell_type": "code",
   "execution_count": null,
   "id": "e1f15a10",
   "metadata": {},
   "outputs": [],
   "source": [
    "A = [\"abc\", 34, True, 40, \"male\"]\n",
    "B=['apple', 'blackcurrant', 'watermelon', 'orange', 'kiwi', 'mango', 1]\n",
    "C=A+B\n",
    "C"
   ]
  },
  {
   "cell_type": "code",
   "execution_count": null,
   "id": "f7de04f4",
   "metadata": {},
   "outputs": [],
   "source": [
    "list = [12, 3, 4,[34, 56], 6, 8]"
   ]
  },
  {
   "cell_type": "markdown",
   "id": "35a16544",
   "metadata": {},
   "source": [
    "## Sorting"
   ]
  },
  {
   "cell_type": "code",
   "execution_count": null,
   "id": "6494960e",
   "metadata": {},
   "outputs": [],
   "source": [
    "A=[12,13,14,16,100,67,23]\n",
    "A.sort()\n",
    "A"
   ]
  },
  {
   "cell_type": "code",
   "execution_count": null,
   "id": "d31ee269",
   "metadata": {},
   "outputs": [],
   "source": [
    "A=[12,13,\"Apple\",\"ch\",True,False]\n",
    "A.sort(reverse=True)\n",
    "A"
   ]
  },
  {
   "cell_type": "code",
   "execution_count": null,
   "id": "bc63d937",
   "metadata": {},
   "outputs": [],
   "source": [
    "A=[\"Apple\",\"ch\"]\n",
    "A.sort(reverse=True)\n",
    "A"
   ]
  },
  {
   "cell_type": "code",
   "execution_count": null,
   "id": "a54ee506",
   "metadata": {},
   "outputs": [],
   "source": [
    "A=[\"orange\", \"mango\", \"kiwi\", \"pineapple\", \"banana\"]\n",
    "A.sort(reverse=True)\n",
    "A"
   ]
  },
  {
   "cell_type": "code",
   "execution_count": null,
   "id": "dd3dc3ce",
   "metadata": {},
   "outputs": [],
   "source": [
    "A=[\"character\",\"Wifi\",12,\"Kivi\",12.0]\n",
    "B=A\n",
    "B.append(\"Age\")\n",
    "print(B)\n",
    "print(A)"
   ]
  },
  {
   "cell_type": "code",
   "execution_count": null,
   "id": "28c96241",
   "metadata": {},
   "outputs": [],
   "source": [
    "A=[\"character\",\"Wifi\",12,\"Kivi\",12.0]\n",
    "B=A.copy()\n",
    "B"
   ]
  },
  {
   "cell_type": "code",
   "execution_count": null,
   "id": "4fad9edf",
   "metadata": {},
   "outputs": [],
   "source": [
    "A=[\"character\",\"Wifi\",12,\"Kivi\",12.0]\n",
    "B=A\n",
    "B"
   ]
  },
  {
   "cell_type": "code",
   "execution_count": null,
   "id": "271a2d09",
   "metadata": {},
   "outputs": [],
   "source": [
    "ls=[12,34,(12,45),45]\n",
    "ls[2][1]"
   ]
  },
  {
   "cell_type": "markdown",
   "id": "a9a20f8f",
   "metadata": {},
   "source": [
    "## Tuple"
   ]
  },
  {
   "cell_type": "code",
   "execution_count": 1,
   "id": "19ff3ebb",
   "metadata": {},
   "outputs": [
    {
     "data": {
      "text/plain": [
       "tuple"
      ]
     },
     "execution_count": 1,
     "metadata": {},
     "output_type": "execute_result"
    }
   ],
   "source": [
    "tp=(\"character\",\"Wifi\",12,\"Kivi\",12.0)\n",
    "type(tp)"
   ]
  },
  {
   "cell_type": "code",
   "execution_count": 2,
   "id": "e91fe8ce",
   "metadata": {},
   "outputs": [
    {
     "data": {
      "text/plain": [
       "5"
      ]
     },
     "execution_count": 2,
     "metadata": {},
     "output_type": "execute_result"
    }
   ],
   "source": [
    "len(tp)"
   ]
  },
  {
   "cell_type": "code",
   "execution_count": null,
   "id": "9779cb4c",
   "metadata": {},
   "outputs": [],
   "source": []
  },
  {
   "cell_type": "code",
   "execution_count": 3,
   "id": "8f1f57ae",
   "metadata": {},
   "outputs": [
    {
     "data": {
      "text/plain": [
       "str"
      ]
     },
     "execution_count": 3,
     "metadata": {},
     "output_type": "execute_result"
    }
   ],
   "source": [
    "tp=('tuple')\n",
    "type(tp)"
   ]
  },
  {
   "cell_type": "code",
   "execution_count": 4,
   "id": "d3635781",
   "metadata": {},
   "outputs": [
    {
     "data": {
      "text/plain": [
       "str"
      ]
     },
     "execution_count": 4,
     "metadata": {},
     "output_type": "execute_result"
    }
   ],
   "source": [
    "tp=('tuple')\n",
    "type(tp)"
   ]
  },
  {
   "cell_type": "code",
   "execution_count": 5,
   "id": "f144bb12",
   "metadata": {},
   "outputs": [],
   "source": [
    "tp1 = (\"apple\", \"banana\", \"cherry\")\n",
    "tp2 = (1, 5, 7, 9, 3)\n",
    "tp3 = (True, False, False)"
   ]
  },
  {
   "cell_type": "code",
   "execution_count": 6,
   "id": "c4b7e741",
   "metadata": {},
   "outputs": [
    {
     "data": {
      "text/plain": [
       "tuple"
      ]
     },
     "execution_count": 6,
     "metadata": {},
     "output_type": "execute_result"
    }
   ],
   "source": [
    "type(tp1)\n",
    "type(tp2)\n",
    "type(tp3)"
   ]
  },
  {
   "cell_type": "code",
   "execution_count": 7,
   "id": "0f5b2f81",
   "metadata": {},
   "outputs": [
    {
     "data": {
      "text/plain": [
       "'character'"
      ]
     },
     "execution_count": 7,
     "metadata": {},
     "output_type": "execute_result"
    }
   ],
   "source": [
    "tp=(\"character\",\"Wifi\",12,\"Kivi\",12.0)\n",
    "tp[-5]"
   ]
  },
  {
   "cell_type": "code",
   "execution_count": 8,
   "id": "b78e5f59",
   "metadata": {},
   "outputs": [
    {
     "data": {
      "text/plain": [
       "('apple', 'banana', 'cherry', 1)"
      ]
     },
     "execution_count": 8,
     "metadata": {},
     "output_type": "execute_result"
    }
   ],
   "source": [
    "tp = (\"apple\", \"banana\", \"cherry\")\n",
    "a=(1,)\n",
    "tp=tp+a\n",
    "tp"
   ]
  },
  {
   "cell_type": "code",
   "execution_count": 9,
   "id": "59f0ff47",
   "metadata": {},
   "outputs": [
    {
     "data": {
      "text/plain": [
       "('apple', 'banana', 'cherry', 1, 5, 7, 9, 3)"
      ]
     },
     "execution_count": 9,
     "metadata": {},
     "output_type": "execute_result"
    }
   ],
   "source": [
    "tp1 = (\"apple\", \"banana\", \"cherry\")\n",
    "tp2 = (1, 5, 7, 9, 3)\n",
    "tp=tp1+tp2\n",
    "tp"
   ]
  },
  {
   "cell_type": "code",
   "execution_count": 10,
   "id": "c72313cb",
   "metadata": {},
   "outputs": [
    {
     "data": {
      "text/plain": [
       "('apple', 'banana', 'cherry', 'apple', 'banana', 'cherry')"
      ]
     },
     "execution_count": 10,
     "metadata": {},
     "output_type": "execute_result"
    }
   ],
   "source": [
    "tp1 = (\"apple\", \"banana\", \"cherry\")\n",
    "tp=tp1*2\n",
    "tp"
   ]
  },
  {
   "cell_type": "code",
   "execution_count": 11,
   "id": "4a32531e",
   "metadata": {},
   "outputs": [
    {
     "data": {
      "text/plain": [
       "5"
      ]
     },
     "execution_count": 11,
     "metadata": {},
     "output_type": "execute_result"
    }
   ],
   "source": [
    "tup = (22, 45, 23, 78, 6.89)\n",
    "\n",
    "len(tup)"
   ]
  },
  {
   "cell_type": "code",
   "execution_count": 12,
   "id": "de86a2ed",
   "metadata": {},
   "outputs": [
    {
     "data": {
      "text/plain": [
       "3"
      ]
     },
     "execution_count": 12,
     "metadata": {},
     "output_type": "execute_result"
    }
   ],
   "source": [
    "\n",
    "tup = (22, 45, 23, 78, 22, 22, 6.89)\n",
    "tup.count(22)"
   ]
  },
  {
   "cell_type": "code",
   "execution_count": 13,
   "id": "ad783e1a",
   "metadata": {},
   "outputs": [
    {
     "name": "stdout",
     "output_type": "stream",
     "text": [
      "2\n",
      "7\n"
     ]
    }
   ],
   "source": [
    "tup = (22, 3, 45, 4, 2.4, 2, 56, 890, 1)\n",
    "\n",
    "print(tup.index(45))\n",
    "\n",
    "print(tup.index(890))"
   ]
  },
  {
   "cell_type": "code",
   "execution_count": 14,
   "id": "d8d8e508",
   "metadata": {},
   "outputs": [
    {
     "data": {
      "text/plain": [
       "[1, 2, 2.4, 3, 4, 22, 45, 56, 890]"
      ]
     },
     "execution_count": 14,
     "metadata": {},
     "output_type": "execute_result"
    }
   ],
   "source": [
    "tup = (22, 3, 45, 4, 2.4, 2, 56, 890, 1)\n",
    "\n",
    "sorted(tup)"
   ]
  },
  {
   "cell_type": "code",
   "execution_count": 15,
   "id": "07fcafff",
   "metadata": {},
   "outputs": [
    {
     "data": {
      "text/plain": [
       "890"
      ]
     },
     "execution_count": 15,
     "metadata": {},
     "output_type": "execute_result"
    }
   ],
   "source": [
    "tup = (22, 3, 45, 4, 2.4, 2, 56, 890, 1)\n",
    "\n",
    "max(tup)"
   ]
  },
  {
   "cell_type": "markdown",
   "id": "dc73bdb3",
   "metadata": {},
   "source": [
    "## Dictionaries"
   ]
  },
  {
   "cell_type": "code",
   "execution_count": 1,
   "id": "8686bda6",
   "metadata": {},
   "outputs": [
    {
     "data": {
      "text/plain": [
       "{'brand': 'Ford', 'model': 'Mustang', 'year': 1964}"
      ]
     },
     "execution_count": 1,
     "metadata": {},
     "output_type": "execute_result"
    }
   ],
   "source": [
    "my_dict = {\n",
    "  \"brand\": \"Ford\",\n",
    "  \"model\": \"Mustang\",\n",
    "  \"year\": 1964\n",
    "}\n",
    "my_dict"
   ]
  },
  {
   "cell_type": "code",
   "execution_count": 13,
   "id": "d032df8e",
   "metadata": {},
   "outputs": [
    {
     "data": {
      "text/plain": [
       "dict_keys(['brand', 'year', 'Colour'])"
      ]
     },
     "execution_count": 13,
     "metadata": {},
     "output_type": "execute_result"
    }
   ],
   "source": [
    "my_dict.keys()"
   ]
  },
  {
   "cell_type": "code",
   "execution_count": 3,
   "id": "17f4b681",
   "metadata": {},
   "outputs": [
    {
     "data": {
      "text/plain": [
       "dict_values(['Ford', 'Mustang', 1964])"
      ]
     },
     "execution_count": 3,
     "metadata": {},
     "output_type": "execute_result"
    }
   ],
   "source": [
    "my_dict.values()"
   ]
  },
  {
   "cell_type": "code",
   "execution_count": 4,
   "id": "63ebcae8",
   "metadata": {},
   "outputs": [
    {
     "data": {
      "text/plain": [
       "dict_items([('brand', 'Ford'), ('model', 'Mustang'), ('year', 1964)])"
      ]
     },
     "execution_count": 4,
     "metadata": {},
     "output_type": "execute_result"
    }
   ],
   "source": [
    "my_dict.items()"
   ]
  },
  {
   "cell_type": "code",
   "execution_count": 5,
   "id": "e8a8a143",
   "metadata": {},
   "outputs": [
    {
     "data": {
      "text/plain": [
       "{'brand': 'Ford', 'model': 'BMW M5', 'year': 1964}"
      ]
     },
     "execution_count": 5,
     "metadata": {},
     "output_type": "execute_result"
    }
   ],
   "source": [
    "my_dict['model']=\"BMW M5\"\n",
    "my_dict"
   ]
  },
  {
   "cell_type": "code",
   "execution_count": 6,
   "id": "dcf41e28",
   "metadata": {},
   "outputs": [
    {
     "data": {
      "text/plain": [
       "{'brand': 'Ford', 'model': 'BMW M5', 'year': 1964, 'Colour': 'Blue'}"
      ]
     },
     "execution_count": 6,
     "metadata": {},
     "output_type": "execute_result"
    }
   ],
   "source": [
    "my_dict['Colour']=\"Blue\"\n",
    "my_dict"
   ]
  },
  {
   "cell_type": "code",
   "execution_count": 7,
   "id": "fbbd5ca4",
   "metadata": {},
   "outputs": [
    {
     "data": {
      "text/plain": [
       "{'brand': 'Ford',\n",
       " 'model': 'BMW M5',\n",
       " 'year': 1964,\n",
       " 'Colour': 'Blue',\n",
       " 'Type': 'Manual'}"
      ]
     },
     "execution_count": 7,
     "metadata": {},
     "output_type": "execute_result"
    }
   ],
   "source": [
    "my_dict.update({'Type':\"Manual\"})\n",
    "my_dict"
   ]
  },
  {
   "cell_type": "code",
   "execution_count": 8,
   "id": "2db12dc5",
   "metadata": {},
   "outputs": [
    {
     "data": {
      "text/plain": [
       "{'brand': 'Ford', 'model': 'BMW M5', 'year': 1964, 'Colour': 'Blue'}"
      ]
     },
     "execution_count": 8,
     "metadata": {},
     "output_type": "execute_result"
    }
   ],
   "source": [
    "my_dict.pop('Type')\n",
    "my_dict"
   ]
  },
  {
   "cell_type": "code",
   "execution_count": 9,
   "id": "d0788e9e",
   "metadata": {},
   "outputs": [
    {
     "data": {
      "text/plain": [
       "{'brand': 'Ford', 'year': 1964, 'Colour': 'Blue'}"
      ]
     },
     "execution_count": 9,
     "metadata": {},
     "output_type": "execute_result"
    }
   ],
   "source": [
    "del my_dict['model']\n",
    "my_dict"
   ]
  },
  {
   "cell_type": "code",
   "execution_count": 10,
   "id": "0652d38e",
   "metadata": {},
   "outputs": [
    {
     "data": {
      "text/plain": [
       "{'brand': 'Ford', 'year': 1964, 'Colour': 'Blue'}"
      ]
     },
     "execution_count": 10,
     "metadata": {},
     "output_type": "execute_result"
    }
   ],
   "source": [
    "new_dict=my_dict.copy()\n",
    "new_dict"
   ]
  },
  {
   "cell_type": "code",
   "execution_count": 11,
   "id": "de9ffb72",
   "metadata": {},
   "outputs": [
    {
     "data": {
      "text/plain": [
       "{}"
      ]
     },
     "execution_count": 11,
     "metadata": {},
     "output_type": "execute_result"
    }
   ],
   "source": [
    "new_dict.clear()\n",
    "new_dict"
   ]
  },
  {
   "cell_type": "code",
   "execution_count": null,
   "id": "4a399b43",
   "metadata": {},
   "outputs": [],
   "source": [
    "my_dict = {\n",
    "  \"brand\": \"Ford\",\n",
    "  \"model\": \"Mustang\",\n",
    "  \"year\": 1964\n",
    "}\n",
    "if \"model\" in my_dict:\n",
    "    print(\"Yes, model exists in dictionary\")\n",
    "else:\n",
    "    print(\"Not exists\")"
   ]
  },
  {
   "cell_type": "code",
   "execution_count": null,
   "id": "3c223273",
   "metadata": {},
   "outputs": [],
   "source": []
  },
  {
   "cell_type": "code",
   "execution_count": null,
   "id": "345f99d7",
   "metadata": {},
   "outputs": [],
   "source": [
    "my_dict = {\n",
    "  \"brand\": \"Ford\",\n",
    "  \"model\": \"Mustang\",\n",
    "  \"year\": 1964\n",
    "}\n",
    "if \"Mustang\" in my_dict.values():\n",
    "    print(\"Yes, Mustang exists in dictionary\")\n",
    "else:\n",
    "    print(\"Not exists\")"
   ]
  },
  {
   "cell_type": "code",
   "execution_count": null,
   "id": "ecc49e9a",
   "metadata": {},
   "outputs": [],
   "source": [
    "\n"
   ]
  },
  {
   "cell_type": "code",
   "execution_count": null,
   "id": "738e3ecd",
   "metadata": {},
   "outputs": [],
   "source": []
  }
 ],
 "metadata": {
  "kernelspec": {
   "display_name": "Python 3 (ipykernel)",
   "language": "python",
   "name": "python3"
  },
  "language_info": {
   "codemirror_mode": {
    "name": "ipython",
    "version": 3
   },
   "file_extension": ".py",
   "mimetype": "text/x-python",
   "name": "python",
   "nbconvert_exporter": "python",
   "pygments_lexer": "ipython3",
   "version": "3.9.12"
  }
 },
 "nbformat": 4,
 "nbformat_minor": 5
}
