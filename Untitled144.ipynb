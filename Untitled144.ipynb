{
 "cells": [
  {
   "cell_type": "code",
   "execution_count": 2,
   "id": "0b9b5516",
   "metadata": {},
   "outputs": [],
   "source": [
    "import numpy as np"
   ]
  },
  {
   "cell_type": "code",
   "execution_count": 3,
   "id": "6c343002",
   "metadata": {},
   "outputs": [
    {
     "data": {
      "text/plain": [
       "array([[12, 13, 14],\n",
       "       [13, 13, 78]])"
      ]
     },
     "execution_count": 3,
     "metadata": {},
     "output_type": "execute_result"
    }
   ],
   "source": [
    "matrix=np.array([[12,13,14],[13,13,78]])\n",
    "matrix"
   ]
  },
  {
   "cell_type": "code",
   "execution_count": 4,
   "id": "f2a07fee",
   "metadata": {},
   "outputs": [
    {
     "data": {
      "text/plain": [
       "numpy.ndarray"
      ]
     },
     "execution_count": 4,
     "metadata": {},
     "output_type": "execute_result"
    }
   ],
   "source": [
    "type(matrix)"
   ]
  },
  {
   "cell_type": "code",
   "execution_count": 5,
   "id": "bdf55d2e",
   "metadata": {},
   "outputs": [],
   "source": [
    "matrix=np.matrix([[12,13,14],[13,13,78]])"
   ]
  },
  {
   "cell_type": "code",
   "execution_count": 6,
   "id": "998d52e6",
   "metadata": {},
   "outputs": [
    {
     "data": {
      "text/plain": [
       "matrix([[12, 13, 14],\n",
       "        [13, 13, 78]])"
      ]
     },
     "execution_count": 6,
     "metadata": {},
     "output_type": "execute_result"
    }
   ],
   "source": [
    "matrix"
   ]
  },
  {
   "cell_type": "code",
   "execution_count": 7,
   "id": "50447b53",
   "metadata": {},
   "outputs": [
    {
     "data": {
      "text/plain": [
       "numpy.matrix"
      ]
     },
     "execution_count": 7,
     "metadata": {},
     "output_type": "execute_result"
    }
   ],
   "source": [
    "type(matrix)"
   ]
  },
  {
   "cell_type": "code",
   "execution_count": 8,
   "id": "20233572",
   "metadata": {},
   "outputs": [],
   "source": [
    "import numpy as np\n",
    "def sigmoid(z):\n",
    "    return 1 / (1 + np.exp(-z))\n",
    "def matrix_multiply(A, B):\n",
    "    return np.dot(A, B)\n"
   ]
  },
  {
   "cell_type": "code",
   "execution_count": 9,
   "id": "8e2e85ce",
   "metadata": {},
   "outputs": [
    {
     "name": "stdout",
     "output_type": "stream",
     "text": [
      "1 layer output: [[0.61015329]]\n"
     ]
    }
   ],
   "source": [
    "X = np.array([[1], [2], [3]])\n",
    "W1 = np.array([[0.1, 0.2, 0.3]])\n",
    "b1 = 0.5\n",
    "\n",
    "Z1 = matrix_multiply(W1, X) + b1\n",
    "A1 = sigmoid(Z1)\n",
    "\n",
    "\n",
    "W2 = np.array([[0.4]])\n",
    "b2 = 0.1\n",
    "\n",
    "Z2 = matrix_multiply(W2, A1) + b2\n",
    "A2 = sigmoid(Z2)\n",
    "\n",
    "print(\"1 layer output:\", A2)\n"
   ]
  },
  {
   "cell_type": "code",
   "execution_count": 11,
   "id": "ff91b6c9",
   "metadata": {},
   "outputs": [
    {
     "name": "stdout",
     "output_type": "stream",
     "text": [
      "2 Layer output [[0.62908067]]\n"
     ]
    }
   ],
   "source": [
    "X = np.array([[1], [2], [3]])\n",
    "W1 = np.array([[0.1, 0.2, 0.3]])\n",
    "b1 = 0.5\n",
    "Z1 = matrix_multiply(W1, X) + b1\n",
    "A1 = sigmoid(Z1)\n",
    "\n",
    "# Layer 1\n",
    "W2 = np.array([[0.4]])\n",
    "b2 = 0.3\n",
    "Z2 = matrix_multiply(W2, A1) + b2\n",
    "A2 = sigmoid(Z2)\n",
    "# layer 2\n",
    "\n",
    "W3 = np.array([[0.5]])\n",
    "b3 = 0.2\n",
    "Z3 = matrix_multiply(W3, A2) + b3\n",
    "A3 = sigmoid(Z3)\n",
    "\n",
    "print(\"2 Layer output\", A3)\n"
   ]
  },
  {
   "cell_type": "code",
   "execution_count": null,
   "id": "63d096b6",
   "metadata": {},
   "outputs": [],
   "source": []
  }
 ],
 "metadata": {
  "kernelspec": {
   "display_name": "Python 3 (ipykernel)",
   "language": "python",
   "name": "python3"
  },
  "language_info": {
   "codemirror_mode": {
    "name": "ipython",
    "version": 3
   },
   "file_extension": ".py",
   "mimetype": "text/x-python",
   "name": "python",
   "nbconvert_exporter": "python",
   "pygments_lexer": "ipython3",
   "version": "3.9.12"
  }
 },
 "nbformat": 4,
 "nbformat_minor": 5
}
