{
 "cells": [
  {
   "cell_type": "code",
   "execution_count": 26,
   "id": "e6d66e06",
   "metadata": {},
   "outputs": [],
   "source": [
    "# Pass Statement\n",
    "def my_func():\n",
    "    pass"
   ]
  },
  {
   "cell_type": "markdown",
   "id": "05820817",
   "metadata": {},
   "source": [
    "## Default Parameters"
   ]
  },
  {
   "cell_type": "code",
   "execution_count": 13,
   "id": "fa30f202",
   "metadata": {},
   "outputs": [
    {
     "name": "stdout",
     "output_type": "stream",
     "text": [
      "{'first': 'Akbar', 'last': 'Hussain'}\n"
     ]
    }
   ],
   "source": [
    "def build_person(first_name, last_name, age=None):\n",
    "    \"\"\"Return a dictionary of information about a person.\"\"\"\n",
    "    person = {'first': first_name, 'last': last_name}\n",
    "    if age:\n",
    "        person['age'] = age\n",
    "    return person\n",
    "\n",
    "musician = build_person('Akbar',\"Hussain\")\n",
    "print(musician)\n"
   ]
  },
  {
   "cell_type": "code",
   "execution_count": 2,
   "id": "898bbedf",
   "metadata": {},
   "outputs": [
    {
     "name": "stdout",
     "output_type": "stream",
     "text": [
      "Hello saboor welcome to gilgit\n"
     ]
    }
   ],
   "source": [
    "def greeting(name=\"wasif\"):\n",
    "    print(f\"Hello {name} welcome to gilgit\")\n",
    "greeting(\"saboor\")"
   ]
  },
  {
   "cell_type": "markdown",
   "id": "27855b3c",
   "metadata": {},
   "source": [
    "# Varibale Argument"
   ]
  },
  {
   "cell_type": "markdown",
   "id": "0cceeab5",
   "metadata": {},
   "source": [
    "## Positional Argument\n",
    "when we requied more than 1 arguments"
   ]
  },
  {
   "cell_type": "code",
   "execution_count": 6,
   "id": "138eaa0c",
   "metadata": {},
   "outputs": [
    {
     "data": {
      "text/plain": [
       "74"
      ]
     },
     "execution_count": 6,
     "metadata": {},
     "output_type": "execute_result"
    }
   ],
   "source": [
    "def add_numbers(*args):\n",
    "    sum=0\n",
    "    for numbers in args:\n",
    "        sum+=numbers\n",
    "    return sum\n",
    "add_numbers(12,34,5,6,8,9)"
   ]
  },
  {
   "cell_type": "code",
   "execution_count": 7,
   "id": "86503515",
   "metadata": {},
   "outputs": [
    {
     "name": "stdout",
     "output_type": "stream",
     "text": [
      "12\n",
      "34\n",
      "5\n",
      "6\n",
      "8\n",
      "9\n"
     ]
    }
   ],
   "source": [
    "def add_numbers(*args):\n",
    "    for numbers in args:\n",
    "        print(numbers)\n",
    "add_numbers(12,34,5,6,8,9)"
   ]
  },
  {
   "cell_type": "markdown",
   "id": "1b05f05c",
   "metadata": {},
   "source": [
    "## Keyword Parameters\n",
    "all the values must be in keys and values pairs"
   ]
  },
  {
   "cell_type": "code",
   "execution_count": 2,
   "id": "8c2958ad",
   "metadata": {},
   "outputs": [
    {
     "name": "stdout",
     "output_type": "stream",
     "text": [
      "XYZ:name\n",
      "ABC:Address\n",
      "FGH:education\n"
     ]
    }
   ],
   "source": [
    "def print_details(**kwargs):\n",
    "    for value,key in kwargs.items():\n",
    "        print(f'{key}:{value}')\n",
    "print_details(name=\"XYZ\",Address=\"ABC\",education=\"FGH\")"
   ]
  },
  {
   "cell_type": "markdown",
   "id": "6efd8449",
   "metadata": {},
   "source": [
    "# Filter Function()"
   ]
  },
  {
   "cell_type": "code",
   "execution_count": 1,
   "id": "505ef8c1",
   "metadata": {},
   "outputs": [
    {
     "data": {
      "text/plain": [
       "[12, 4, 6, 78, 2]"
      ]
     },
     "execution_count": 1,
     "metadata": {},
     "output_type": "execute_result"
    }
   ],
   "source": [
    "def even(num):\n",
    "    if num%2==0:\n",
    "        return True\n",
    "\n",
    "lst=[12,3,4,6,78,2,1,7,9,3,5]\n",
    "list(filter(even,lst))\n"
   ]
  },
  {
   "cell_type": "markdown",
   "id": "8e9521d8",
   "metadata": {},
   "source": [
    "# Passing List"
   ]
  },
  {
   "cell_type": "code",
   "execution_count": 23,
   "id": "6ff3e966",
   "metadata": {},
   "outputs": [
    {
     "name": "stdout",
     "output_type": "stream",
     "text": [
      "apple\n",
      "banana\n",
      "cherry\n"
     ]
    }
   ],
   "source": [
    "def my_function(food):\n",
    "  for x in food:\n",
    "    print(x)\n",
    "\n",
    "fruits = [\"apple\", \"banana\", \"cherry\"]\n",
    "\n",
    "my_function(fruits)"
   ]
  },
  {
   "cell_type": "code",
   "execution_count": 24,
   "id": "45c9927f",
   "metadata": {},
   "outputs": [
    {
     "name": "stdout",
     "output_type": "stream",
     "text": [
      "apple\n",
      "banana\n",
      "cherry\n"
     ]
    }
   ],
   "source": [
    "## Passing tuple\n",
    "def my_function(food):\n",
    "  for x in food:\n",
    "    print(x)\n",
    "\n",
    "fruits = (\"apple\", \"banana\", \"cherry\")\n",
    "\n",
    "my_function(fruits)"
   ]
  },
  {
   "cell_type": "markdown",
   "id": "4c893554",
   "metadata": {},
   "source": [
    "# Lambda Function"
   ]
  },
  {
   "cell_type": "code",
   "execution_count": 2,
   "id": "65643c88",
   "metadata": {},
   "outputs": [],
   "source": [
    "#anonymous function which have number of arguments but have only a expression\n",
    "#function without name\n",
    "#lambda arguments : expression"
   ]
  },
  {
   "cell_type": "code",
   "execution_count": 3,
   "id": "b51172d1",
   "metadata": {},
   "outputs": [
    {
     "data": {
      "text/plain": [
       "46"
      ]
     },
     "execution_count": 3,
     "metadata": {},
     "output_type": "execute_result"
    }
   ],
   "source": [
    "def add(a,b):\n",
    "    return a+b\n",
    "add(12,34)"
   ]
  },
  {
   "cell_type": "code",
   "execution_count": 6,
   "id": "49dda39d",
   "metadata": {},
   "outputs": [],
   "source": [
    "addition =lambda a,b: a+b"
   ]
  },
  {
   "cell_type": "code",
   "execution_count": 7,
   "id": "d6932850",
   "metadata": {},
   "outputs": [
    {
     "name": "stdout",
     "output_type": "stream",
     "text": [
      "46\n"
     ]
    }
   ],
   "source": [
    "print(addition(12,34))"
   ]
  },
  {
   "cell_type": "code",
   "execution_count": 10,
   "id": "017656aa",
   "metadata": {},
   "outputs": [
    {
     "data": {
      "text/plain": [
       "False"
      ]
     },
     "execution_count": 10,
     "metadata": {},
     "output_type": "execute_result"
    }
   ],
   "source": [
    "even = lambda x: x%2==0\n",
    "even(13)"
   ]
  },
  {
   "cell_type": "markdown",
   "id": "3e5526b5",
   "metadata": {},
   "source": [
    "# Map Function"
   ]
  },
  {
   "cell_type": "code",
   "execution_count": 3,
   "id": "f39a09a8",
   "metadata": {},
   "outputs": [
    {
     "data": {
      "text/plain": [
       "[True, None, True, None, None, True, True]"
      ]
     },
     "execution_count": 3,
     "metadata": {},
     "output_type": "execute_result"
    }
   ],
   "source": [
    "# will apply the function to whole input\n",
    "def even(num):\n",
    "    if num%2==0:\n",
    "        return True\n",
    "lst=[12,3,4,67,23,78,12,]\n",
    "list(map(even,lst))"
   ]
  },
  {
   "cell_type": "code",
   "execution_count": 7,
   "id": "d0eb8958",
   "metadata": {},
   "outputs": [
    {
     "data": {
      "text/plain": [
       "[12, 4, 6, 78, 2]"
      ]
     },
     "execution_count": 7,
     "metadata": {},
     "output_type": "execute_result"
    }
   ],
   "source": [
    "#Filter Function\n",
    "\n",
    "def even(num):\n",
    "    if num%2==0:\n",
    "        return True\n",
    "\n",
    "lst=[12,3,4,6,78,2,1,7,9,3,5]\n",
    "list(filter(even,lst))\n"
   ]
  },
  {
   "cell_type": "code",
   "execution_count": 17,
   "id": "5936371c",
   "metadata": {},
   "outputs": [
    {
     "name": "stdout",
     "output_type": "stream",
     "text": [
      "[12, 4, 6, 78, 2]\n"
     ]
    }
   ],
   "source": [
    "lst = [12, 3, 4, 6, 78, 2, 1, 7, 9, 3, 5]\n",
    "even_numbers = []\n",
    "\n",
    "for num in lst:\n",
    "    if (lambda x: x % 2 == 0)(num):\n",
    "        even_numbers.append(num)\n",
    "\n",
    "print(even_numbers)\n"
   ]
  },
  {
   "cell_type": "code",
   "execution_count": 1,
   "id": "c3837213",
   "metadata": {},
   "outputs": [
    {
     "name": "stdout",
     "output_type": "stream",
     "text": [
      "Enter the value12\n",
      "Enter the value13\n",
      "Enter the value14\n",
      "12 13 14\n"
     ]
    }
   ],
   "source": [
    "def input_no(a,b,c):\n",
    "    a=int(input(\"Enter the value\"))\n",
    "    b=int(input(\"Enter the value\"))\n",
    "    c=int(input(\"Enter the value\"))\n",
    "    print(a,b,c)\n",
    "input_no(10,23,56)"
   ]
  },
  {
   "cell_type": "code",
   "execution_count": 6,
   "id": "e85508e2",
   "metadata": {},
   "outputs": [
    {
     "data": {
      "text/plain": [
       "False"
      ]
     },
     "execution_count": 6,
     "metadata": {},
     "output_type": "execute_result"
    }
   ],
   "source": [
    "def add_numbers(*args):\n",
    "    for numbers in args:\n",
    "        if numbers%2==0:\n",
    "            return True\n",
    "        else:\n",
    "            return False\n"
   ]
  },
  {
   "cell_type": "code",
   "execution_count": 10,
   "id": "f0eb6eef",
   "metadata": {},
   "outputs": [
    {
     "data": {
      "text/plain": [
       "[True, None, True, None, True]"
      ]
     },
     "execution_count": 10,
     "metadata": {},
     "output_type": "execute_result"
    }
   ],
   "source": [
    "def vowel_checker(*args):\n",
    "    for i in args:\n",
    "        if i==\"a\" or i==\"A\" or i==\"i\" or i==\"I\" or i==\"o\" or i==\"O\" or i==\"u\" or i==\"U\" or i==\"e\" or i==\"E\":\n",
    "            return True\n",
    "var_1=['a','b','E','p','O']\n",
    "list(map(vowel_checker,var_1))"
   ]
  },
  {
   "cell_type": "code",
   "execution_count": 1,
   "id": "0a512101",
   "metadata": {},
   "outputs": [
    {
     "name": "stdout",
     "output_type": "stream",
     "text": [
      "Upper-case: HELLO, OPENAI! OPENAI IS AWESOME.\n",
      "Lower-case: hello, openai! openai is awesome.\n",
      "Find 'OpenAI': 7\n",
      "Index of 'OpenAI': 7\n",
      "Count 'OpenAI': 2\n",
      "Joined string: Hello from OpenAI\n",
      "Is numeric: True\n",
      "Is alpha-numeric: True\n",
      "Split string: ['Hello,', 'OpenAI!', 'OpenAI', 'is', 'awesome.']\n",
      "Replaced text: Hello, ChatGPT! ChatGPT is awesome.\n"
     ]
    }
   ],
   "source": [
    "# Example string\n",
    "text = \"Hello, OpenAI! OpenAI is awesome.\"\n",
    "\n",
    "# upper() - Converts to upper-case\n",
    "upper_text = text.upper()\n",
    "print(\"Upper-case:\", upper_text)\n",
    "\n",
    "# lower() - Converts to lower-case\n",
    "lower_text = text.lower()\n",
    "print(\"Lower-case:\", lower_text)\n",
    "\n",
    "# find() - Finds a substring in a string: returns starting index\n",
    "find_index = text.find(\"OpenAI\")\n",
    "print(\"Find 'OpenAI':\", find_index)\n",
    "\n",
    "# index() - Finds starting index of a substring\n",
    "index_index = text.index(\"OpenAI\")\n",
    "print(\"Index of 'OpenAI':\", index_index)\n",
    "\n",
    "# count() - Counts the number of occurrences of a substring\n",
    "count_openai = text.count(\"OpenAI\")\n",
    "print(\"Count 'OpenAI':\", count_openai)\n",
    "\n",
    "# join() - Used to join string of an iterable containing strings\n",
    "list_of_strings = [\"Hello\", \"from\", \"OpenAI\"]\n",
    "joined_string = \" \".join(list_of_strings)\n",
    "print(\"Joined string:\", joined_string)\n",
    "\n",
    "# isnumeric() - Used to check if a string is a number\n",
    "num_string = \"12345\"\n",
    "is_num = num_string.isnumeric()\n",
    "print(\"Is numeric:\", is_num)\n",
    "\n",
    "# isalnum() - Used to check if a string is alpha-numeric\n",
    "alnum_string = \"OpenAI2024\"\n",
    "is_alnum = alnum_string.isalnum()\n",
    "print(\"Is alpha-numeric:\", is_alnum)\n",
    "\n",
    "# split() - Used to split a string to a list\n",
    "split_text = text.split()\n",
    "print(\"Split string:\", split_text)\n",
    "\n",
    "# replace() - Replaces a string with another string\n",
    "replaced_text = text.replace(\"OpenAI\", \"ChatGPT\")\n",
    "print(\"Replaced text:\", replaced_text)\n"
   ]
  },
  {
   "cell_type": "code",
   "execution_count": 2,
   "id": "9a274e6e",
   "metadata": {},
   "outputs": [
    {
     "name": "stdout",
     "output_type": "stream",
     "text": [
      "Find 'OpenAI': 7\n"
     ]
    }
   ],
   "source": [
    "find_index = text.find(\"OpenAI\")\n",
    "print(\"Find 'OpenAI':\", find_index)"
   ]
  },
  {
   "cell_type": "markdown",
   "id": "394e1a00",
   "metadata": {},
   "source": [
    "# find()"
   ]
  },
  {
   "cell_type": "code",
   "execution_count": 3,
   "id": "a20b5430",
   "metadata": {},
   "outputs": [
    {
     "data": {
      "text/plain": [
       "8"
      ]
     },
     "execution_count": 3,
     "metadata": {},
     "output_type": "execute_result"
    }
   ],
   "source": [
    "text=\"Hello world\"\n",
    "text.find(\"r\")"
   ]
  },
  {
   "cell_type": "code",
   "execution_count": 18,
   "id": "5d253a65",
   "metadata": {},
   "outputs": [
    {
     "data": {
      "text/plain": [
       "-1"
      ]
     },
     "execution_count": 18,
     "metadata": {},
     "output_type": "execute_result"
    }
   ],
   "source": [
    "text = \"Hello, welcome to my world.\"\n",
    "text.find(\"e\", 5, 10)\n",
    "text.find(\"q\", 5, 10) "
   ]
  },
  {
   "cell_type": "markdown",
   "id": "07af2522",
   "metadata": {},
   "source": [
    "# upper Lower()"
   ]
  },
  {
   "cell_type": "code",
   "execution_count": 8,
   "id": "ac5daa5c",
   "metadata": {},
   "outputs": [
    {
     "data": {
      "text/plain": [
       "'HELLO, WELCOME TO MY WORLD.'"
      ]
     },
     "execution_count": 8,
     "metadata": {},
     "output_type": "execute_result"
    }
   ],
   "source": [
    "text = \"Hello, welcome to my world.\"\n",
    "text.upper()"
   ]
  },
  {
   "cell_type": "code",
   "execution_count": 9,
   "id": "e0ee2476",
   "metadata": {},
   "outputs": [
    {
     "data": {
      "text/plain": [
       "'hello, welcome to my world.'"
      ]
     },
     "execution_count": 9,
     "metadata": {},
     "output_type": "execute_result"
    }
   ],
   "source": [
    "text = \"Hello, welcome to my world.\"\n",
    "text.lower()"
   ]
  },
  {
   "cell_type": "markdown",
   "id": "f190047c",
   "metadata": {},
   "source": [
    "# index()"
   ]
  },
  {
   "cell_type": "code",
   "execution_count": 15,
   "id": "c65de1c4",
   "metadata": {},
   "outputs": [
    {
     "data": {
      "text/plain": [
       "1"
      ]
     },
     "execution_count": 15,
     "metadata": {},
     "output_type": "execute_result"
    }
   ],
   "source": [
    "text = \"Hello, welcome to my world.\"\n",
    "text.index(\"e\")"
   ]
  },
  {
   "cell_type": "markdown",
   "id": "81a95be5",
   "metadata": {},
   "source": [
    "# count()"
   ]
  },
  {
   "cell_type": "code",
   "execution_count": 1,
   "id": "3444ea9d",
   "metadata": {},
   "outputs": [
    {
     "data": {
      "text/plain": [
       "5"
      ]
     },
     "execution_count": 1,
     "metadata": {},
     "output_type": "execute_result"
    }
   ],
   "source": [
    "text = \"Hello, welcome welcome to my world.\" # count the occurence of substring\n",
    "text.count(\"l\")"
   ]
  },
  {
   "cell_type": "markdown",
   "id": "57d6c560",
   "metadata": {},
   "source": [
    "# join()"
   ]
  },
  {
   "cell_type": "code",
   "execution_count": 25,
   "id": "75696d31",
   "metadata": {},
   "outputs": [
    {
     "data": {
      "text/plain": [
       "'Hello welcome to my world'"
      ]
     },
     "execution_count": 25,
     "metadata": {},
     "output_type": "execute_result"
    }
   ],
   "source": [
    "text=[\"Hello\",'welcome','to','my','world']\n",
    "my_string=\" \".join(text)\n",
    "my_string"
   ]
  },
  {
   "cell_type": "markdown",
   "id": "1d12b4f5",
   "metadata": {},
   "source": [
    "# isnum()\t"
   ]
  },
  {
   "cell_type": "code",
   "execution_count": 4,
   "id": "81e0ecc3",
   "metadata": {},
   "outputs": [
    {
     "data": {
      "text/plain": [
       "True"
      ]
     },
     "execution_count": 4,
     "metadata": {},
     "output_type": "execute_result"
    }
   ],
   "source": [
    "text=\"1\"\n",
    "text.isnumeric()"
   ]
  },
  {
   "cell_type": "code",
   "execution_count": 30,
   "id": "9823d541",
   "metadata": {},
   "outputs": [
    {
     "data": {
      "text/plain": [
       "False"
      ]
     },
     "execution_count": 30,
     "metadata": {},
     "output_type": "execute_result"
    }
   ],
   "source": [
    "text=\" hello world 12 why 344 happened2\"\n",
    "text.isnumeric()"
   ]
  },
  {
   "cell_type": "markdown",
   "id": "d731321b",
   "metadata": {},
   "source": [
    "# isalnum()"
   ]
  },
  {
   "cell_type": "code",
   "execution_count": 2,
   "id": "c1ddacb9",
   "metadata": {},
   "outputs": [
    {
     "data": {
      "text/plain": [
       "False"
      ]
     },
     "execution_count": 2,
     "metadata": {},
     "output_type": "execute_result"
    }
   ],
   "source": [
    "text=\" hello world 12 why 344 happened2\"\n",
    "text.isalnum()"
   ]
  },
  {
   "cell_type": "markdown",
   "id": "4847c66e",
   "metadata": {},
   "source": [
    "# split()\n",
    "it convert into list"
   ]
  },
  {
   "cell_type": "code",
   "execution_count": 35,
   "id": "22862416",
   "metadata": {},
   "outputs": [
    {
     "data": {
      "text/plain": [
       "['Hello,', 'welcome', 'welcome', 'to', 'my', 'world.']"
      ]
     },
     "execution_count": 35,
     "metadata": {},
     "output_type": "execute_result"
    }
   ],
   "source": [
    "text = \"Hello, welcome welcome to my world.\"\n",
    "text.split()"
   ]
  },
  {
   "cell_type": "code",
   "execution_count": 36,
   "id": "d6e63fe5",
   "metadata": {},
   "outputs": [
    {
     "data": {
      "text/plain": [
       "['apple', 'banana', 'cherry', 'orange']"
      ]
     },
     "execution_count": 36,
     "metadata": {},
     "output_type": "execute_result"
    }
   ],
   "source": [
    "text = \"apple*banana*cherry*orange\"\n",
    "text.split('*')\n"
   ]
  },
  {
   "cell_type": "code",
   "execution_count": 37,
   "id": "d579932a",
   "metadata": {},
   "outputs": [
    {
     "data": {
      "text/plain": [
       "['apple', 'banana*cherry*orange']"
      ]
     },
     "execution_count": 37,
     "metadata": {},
     "output_type": "execute_result"
    }
   ],
   "source": [
    "text = \"apple*banana*cherry*orange\"\n",
    "text.split('*',1)"
   ]
  },
  {
   "cell_type": "markdown",
   "id": "6c779101",
   "metadata": {},
   "source": [
    "# Replace()"
   ]
  },
  {
   "cell_type": "code",
   "execution_count": 39,
   "id": "43b9e76b",
   "metadata": {},
   "outputs": [
    {
     "data": {
      "text/plain": [
       "'I like apples'"
      ]
     },
     "execution_count": 39,
     "metadata": {},
     "output_type": "execute_result"
    }
   ],
   "source": [
    "text = \"I like bananas\"\n",
    "text.replace(\"bananas\", \"apples\")\n"
   ]
  },
  {
   "cell_type": "code",
   "execution_count": 40,
   "id": "6f9f2929",
   "metadata": {},
   "outputs": [
    {
     "data": {
      "text/plain": [
       "'three three was a race horse, two two was one too.'"
      ]
     },
     "execution_count": 40,
     "metadata": {},
     "output_type": "execute_result"
    }
   ],
   "source": [
    "text = \"one one was a race horse, two two was one too.\"\n",
    "text.replace(\"one\", \"three\", 2)"
   ]
  },
  {
   "cell_type": "markdown",
   "id": "adc2c71b",
   "metadata": {},
   "source": [
    "# Random Library"
   ]
  },
  {
   "cell_type": "code",
   "execution_count": 8,
   "id": "796e8a66",
   "metadata": {},
   "outputs": [
    {
     "name": "stdout",
     "output_type": "stream",
     "text": [
      "0.15801274128377363\n"
     ]
    }
   ],
   "source": [
    "import random\n",
    "print(random.random())"
   ]
  },
  {
   "cell_type": "code",
   "execution_count": 27,
   "id": "e70a3a58",
   "metadata": {},
   "outputs": [
    {
     "name": "stdout",
     "output_type": "stream",
     "text": [
      "7\n"
     ]
    }
   ],
   "source": [
    "import random\n",
    "\n",
    "print(random.randint(3.0, 10.0)) #only takes integer value"
   ]
  },
  {
   "cell_type": "code",
   "execution_count": 34,
   "id": "2f0bbe7d",
   "metadata": {},
   "outputs": [
    {
     "name": "stdout",
     "output_type": "stream",
     "text": [
      "['Mango', 'Angle']\n"
     ]
    }
   ],
   "source": [
    "#sample return specific number of random values\n",
    "my_list=['Angle','Apple','Kivi','Pineapple','Apricot','Mango','Watermelon','Banana','Grapes']\n",
    "print(random.sample(my_list,k=2))"
   ]
  },
  {
   "cell_type": "code",
   "execution_count": 4,
   "id": "fd4650bc",
   "metadata": {},
   "outputs": [
    {
     "name": "stdout",
     "output_type": "stream",
     "text": [
      "8\n"
     ]
    }
   ],
   "source": [
    "import random\n",
    "\n",
    "print(random.randrange(3, 9))"
   ]
  },
  {
   "cell_type": "code",
   "execution_count": 6,
   "id": "92e0766b",
   "metadata": {},
   "outputs": [
    {
     "name": "stdout",
     "output_type": "stream",
     "text": [
      "['Angle', 'Apple', 'Mango', 'Watermelon', 'Grapes', 'Banana', 'Apricot', 'Kivi', 'Pineapple']\n"
     ]
    }
   ],
   "source": [
    "my_list=['Angle','Apple','Kivi','Pineapple','Apricot','Mango','Watermelon','Banana','Grapes']\n",
    "random.shuffle(my_list)\n",
    "print(my_list)"
   ]
  },
  {
   "cell_type": "code",
   "execution_count": null,
   "id": "6c13c926",
   "metadata": {},
   "outputs": [],
   "source": []
  },
  {
   "cell_type": "markdown",
   "id": "565e5f24",
   "metadata": {},
   "source": [
    "# Math"
   ]
  },
  {
   "cell_type": "code",
   "execution_count": 8,
   "id": "dde21565",
   "metadata": {},
   "outputs": [],
   "source": [
    "from math import pi,sqrt"
   ]
  },
  {
   "cell_type": "code",
   "execution_count": 9,
   "id": "7ad301bd",
   "metadata": {},
   "outputs": [
    {
     "name": "stdout",
     "output_type": "stream",
     "text": [
      "3.141592653589793\n"
     ]
    }
   ],
   "source": [
    "print(pi)"
   ]
  },
  {
   "cell_type": "code",
   "execution_count": 10,
   "id": "441a4040",
   "metadata": {},
   "outputs": [
    {
     "name": "stdout",
     "output_type": "stream",
     "text": [
      "3.0\n"
     ]
    }
   ],
   "source": [
    "print(sqrt(9))"
   ]
  },
  {
   "cell_type": "code",
   "execution_count": 13,
   "id": "72b5a49d",
   "metadata": {},
   "outputs": [
    {
     "name": "stdout",
     "output_type": "stream",
     "text": [
      "729.0\n"
     ]
    }
   ],
   "source": [
    "import math\n",
    "print(math.pow(9, 3))"
   ]
  },
  {
   "cell_type": "code",
   "execution_count": 14,
   "id": "61b86888",
   "metadata": {},
   "outputs": [
    {
     "name": "stdout",
     "output_type": "stream",
     "text": [
      "5040\n"
     ]
    }
   ],
   "source": [
    "print(math.factorial(7))"
   ]
  },
  {
   "cell_type": "code",
   "execution_count": 15,
   "id": "ed49b2da",
   "metadata": {},
   "outputs": [
    {
     "name": "stdout",
     "output_type": "stream",
     "text": [
      "190.0\n"
     ]
    }
   ],
   "source": [
    "print(math.fabs(-190))"
   ]
  },
  {
   "cell_type": "code",
   "execution_count": 18,
   "id": "f4388488",
   "metadata": {},
   "outputs": [
    {
     "name": "stdout",
     "output_type": "stream",
     "text": [
      "1\n"
     ]
    }
   ],
   "source": [
    "print(math.floor(1.0))"
   ]
  },
  {
   "cell_type": "code",
   "execution_count": 59,
   "id": "70810b0e",
   "metadata": {},
   "outputs": [
    {
     "data": {
      "text/plain": [
       "1"
      ]
     },
     "execution_count": 59,
     "metadata": {},
     "output_type": "execute_result"
    }
   ],
   "source": [
    "math.floor(1.9)"
   ]
  },
  {
   "cell_type": "code",
   "execution_count": 21,
   "id": "e3c1ed5a",
   "metadata": {},
   "outputs": [
    {
     "data": {
      "text/plain": [
       "2"
      ]
     },
     "execution_count": 21,
     "metadata": {},
     "output_type": "execute_result"
    }
   ],
   "source": [
    "math.ceil(1.9)"
   ]
  },
  {
   "cell_type": "code",
   "execution_count": 22,
   "id": "3dbbe4fb",
   "metadata": {},
   "outputs": [
    {
     "data": {
      "text/plain": [
       "-0.5365729180004349"
      ]
     },
     "execution_count": 22,
     "metadata": {},
     "output_type": "execute_result"
    }
   ],
   "source": [
    "math.sin(12)"
   ]
  },
  {
   "cell_type": "code",
   "execution_count": 26,
   "id": "5257139c",
   "metadata": {},
   "outputs": [
    {
     "data": {
      "text/plain": [
       "1.0"
      ]
     },
     "execution_count": 26,
     "metadata": {},
     "output_type": "execute_result"
    }
   ],
   "source": [
    "math.cos(0)"
   ]
  },
  {
   "cell_type": "code",
   "execution_count": 24,
   "id": "06de05b1",
   "metadata": {},
   "outputs": [
    {
     "data": {
      "text/plain": [
       "-6.405331196646276"
      ]
     },
     "execution_count": 24,
     "metadata": {},
     "output_type": "execute_result"
    }
   ],
   "source": [
    "math.tan(30)"
   ]
  },
  {
   "cell_type": "code",
   "execution_count": 27,
   "id": "a0665524",
   "metadata": {},
   "outputs": [
    {
     "name": "stdout",
     "output_type": "stream",
     "text": [
      "2.0\n"
     ]
    }
   ],
   "source": [
    "p = [3]\n",
    "q = [1]\n",
    "print (math.dist(p, q))"
   ]
  },
  {
   "cell_type": "code",
   "execution_count": 29,
   "id": "8f9b6813",
   "metadata": {},
   "outputs": [
    {
     "name": "stdout",
     "output_type": "stream",
     "text": [
      "9.486832980505138\n"
     ]
    }
   ],
   "source": [
    "p = [3, 3]\n",
    "q = [6, 12]\n",
    "\n",
    "# Calculate Euclidean distance\n",
    "# sqrt(p-q)^2\n",
    "# d = √[(x2 – x1)2 + (y2 – y1)2].\n",
    "print (math.dist(p, q))"
   ]
  },
  {
   "cell_type": "code",
   "execution_count": 74,
   "id": "aa6adafd",
   "metadata": {},
   "outputs": [
    {
     "name": "stdout",
     "output_type": "stream",
     "text": [
      "2\n"
     ]
    }
   ],
   "source": []
  },
  {
   "cell_type": "code",
   "execution_count": null,
   "id": "b27dfde2",
   "metadata": {},
   "outputs": [],
   "source": []
  }
 ],
 "metadata": {
  "kernelspec": {
   "display_name": "Python 3 (ipykernel)",
   "language": "python",
   "name": "python3"
  },
  "language_info": {
   "codemirror_mode": {
    "name": "ipython",
    "version": 3
   },
   "file_extension": ".py",
   "mimetype": "text/x-python",
   "name": "python",
   "nbconvert_exporter": "python",
   "pygments_lexer": "ipython3",
   "version": "3.9.12"
  }
 },
 "nbformat": 4,
 "nbformat_minor": 5
}
