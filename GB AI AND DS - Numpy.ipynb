{
 "cells": [
  {
   "cell_type": "code",
   "execution_count": 1,
   "id": "94239181",
   "metadata": {},
   "outputs": [],
   "source": [
    "import numpy as np"
   ]
  },
  {
   "cell_type": "markdown",
   "id": "c80c5ec4",
   "metadata": {},
   "source": [
    "## Basics\n"
   ]
  },
  {
   "cell_type": "code",
   "execution_count": 2,
   "id": "0ce7151c",
   "metadata": {},
   "outputs": [],
   "source": [
    "gene1 = [100, 200, 50, 400]\n",
    "gene2 = [50, 0, 0, \"error\"]\n",
    "gene3 = [350, 100, 50, True]\n",
    "expression_data = [gene1, gene2, gene3]"
   ]
  },
  {
   "cell_type": "code",
   "execution_count": 3,
   "id": "7a017fe0",
   "metadata": {},
   "outputs": [
    {
     "data": {
      "text/plain": [
       "[[100, 200, 50, 400], [50, 0, 0, 'error'], [350, 100, 50, True]]"
      ]
     },
     "execution_count": 3,
     "metadata": {},
     "output_type": "execute_result"
    }
   ],
   "source": [
    "expression_data"
   ]
  },
  {
   "cell_type": "code",
   "execution_count": 4,
   "id": "e32bc034",
   "metadata": {},
   "outputs": [
    {
     "data": {
      "text/plain": [
       "array([['100', '200', '50', '400'],\n",
       "       ['50', '0', '0', 'error'],\n",
       "       ['350', '100', '50', 'True']], dtype='<U11')"
      ]
     },
     "execution_count": 4,
     "metadata": {},
     "output_type": "execute_result"
    }
   ],
   "source": [
    "a = np.array(expression_data)\n",
    "a"
   ]
  },
  {
   "cell_type": "code",
   "execution_count": 5,
   "id": "63c965b7",
   "metadata": {},
   "outputs": [
    {
     "data": {
      "text/plain": [
       "dtype('<U11')"
      ]
     },
     "execution_count": 5,
     "metadata": {},
     "output_type": "execute_result"
    }
   ],
   "source": [
    "a.dtype"
   ]
  },
  {
   "cell_type": "code",
   "execution_count": 6,
   "id": "3e1985f1",
   "metadata": {},
   "outputs": [
    {
     "name": "stdout",
     "output_type": "stream",
     "text": [
      "[12  4  2 34]\n"
     ]
    }
   ],
   "source": [
    "arra_1=np.array([12,4,2,34])\n",
    "print(arra_1)"
   ]
  },
  {
   "cell_type": "code",
   "execution_count": 7,
   "id": "7635bc0f",
   "metadata": {},
   "outputs": [
    {
     "name": "stdout",
     "output_type": "stream",
     "text": [
      "[[12.4  12.3   1.33]\n",
      " [ 1.    9.6   3.4 ]]\n"
     ]
    }
   ],
   "source": [
    "arra_2=np.array([[12.4,12.3,1.33],[1,9.6,3.4]])\n",
    "print(arra_2)"
   ]
  },
  {
   "cell_type": "code",
   "execution_count": 9,
   "id": "d8b79c53",
   "metadata": {},
   "outputs": [
    {
     "data": {
      "text/plain": [
       "2"
      ]
     },
     "execution_count": 9,
     "metadata": {},
     "output_type": "execute_result"
    }
   ],
   "source": [
    "arra_2.ndim"
   ]
  },
  {
   "cell_type": "code",
   "execution_count": 10,
   "id": "0261cb75",
   "metadata": {},
   "outputs": [
    {
     "data": {
      "text/plain": [
       "(2, 3)"
      ]
     },
     "execution_count": 10,
     "metadata": {},
     "output_type": "execute_result"
    }
   ],
   "source": [
    "arra_2.shape"
   ]
  },
  {
   "cell_type": "code",
   "execution_count": 13,
   "id": "b80a2ec0",
   "metadata": {},
   "outputs": [
    {
     "data": {
      "text/plain": [
       "dtype('int32')"
      ]
     },
     "execution_count": 13,
     "metadata": {},
     "output_type": "execute_result"
    }
   ],
   "source": [
    "arra_1.dtype"
   ]
  },
  {
   "cell_type": "markdown",
   "id": "e8dbdca5",
   "metadata": {},
   "source": [
    "## Getting Specific elements,rows and columns"
   ]
  },
  {
   "cell_type": "code",
   "execution_count": 14,
   "id": "e184edda",
   "metadata": {},
   "outputs": [
    {
     "name": "stdout",
     "output_type": "stream",
     "text": [
      "[[12 45 22 56  2 45  8]\n",
      " [19 34 11 44 23  1  0]]\n"
     ]
    }
   ],
   "source": [
    "arra_3=np.array([[12,45,22,56,2,45,8],[19,34,11,44,23,1,0]])\n",
    "print(arra_3)"
   ]
  },
  {
   "cell_type": "code",
   "execution_count": 15,
   "id": "8e609cf6",
   "metadata": {},
   "outputs": [
    {
     "data": {
      "text/plain": [
       "19"
      ]
     },
     "execution_count": 15,
     "metadata": {},
     "output_type": "execute_result"
    }
   ],
   "source": [
    "arra_3[1,0]"
   ]
  },
  {
   "cell_type": "code",
   "execution_count": 16,
   "id": "7a885290",
   "metadata": {},
   "outputs": [
    {
     "data": {
      "text/plain": [
       "array([12, 45, 22, 56,  2, 45,  8])"
      ]
     },
     "execution_count": 16,
     "metadata": {},
     "output_type": "execute_result"
    }
   ],
   "source": [
    "arra_3[0,:]"
   ]
  },
  {
   "cell_type": "code",
   "execution_count": 18,
   "id": "3a0e780d",
   "metadata": {},
   "outputs": [
    {
     "data": {
      "text/plain": [
       "array([[12, 45, 22, 56,  2, 45,  8],\n",
       "       [19, 34, 11, 44, 23,  1,  0]])"
      ]
     },
     "execution_count": 18,
     "metadata": {},
     "output_type": "execute_result"
    }
   ],
   "source": [
    "arra_3[0,:-1]\n",
    "arra_3"
   ]
  },
  {
   "cell_type": "code",
   "execution_count": 19,
   "id": "a0f40698",
   "metadata": {},
   "outputs": [
    {
     "data": {
      "text/plain": [
       "array([19, 34, 11])"
      ]
     },
     "execution_count": 19,
     "metadata": {},
     "output_type": "execute_result"
    }
   ],
   "source": [
    "arra_3[1,:3]"
   ]
  },
  {
   "cell_type": "code",
   "execution_count": 20,
   "id": "054ba624",
   "metadata": {},
   "outputs": [
    {
     "data": {
      "text/plain": [
       "array([22, 11])"
      ]
     },
     "execution_count": 20,
     "metadata": {},
     "output_type": "execute_result"
    }
   ],
   "source": [
    "arra_3[:,2]"
   ]
  },
  {
   "cell_type": "code",
   "execution_count": 21,
   "id": "47732e99",
   "metadata": {},
   "outputs": [
    {
     "data": {
      "text/plain": [
       "array([8, 0])"
      ]
     },
     "execution_count": 21,
     "metadata": {},
     "output_type": "execute_result"
    }
   ],
   "source": [
    "arra_3[:,-1]"
   ]
  },
  {
   "cell_type": "code",
   "execution_count": 24,
   "id": "7b629b4e",
   "metadata": {},
   "outputs": [
    {
     "data": {
      "text/plain": [
       "array([0.        , 0.01010101, 0.02020202, 0.03030303, 0.04040404,\n",
       "       0.05050505, 0.06060606, 0.07070707, 0.08080808, 0.09090909,\n",
       "       0.1010101 , 0.11111111, 0.12121212, 0.13131313, 0.14141414,\n",
       "       0.15151515, 0.16161616, 0.17171717, 0.18181818, 0.19191919,\n",
       "       0.2020202 , 0.21212121, 0.22222222, 0.23232323, 0.24242424,\n",
       "       0.25252525, 0.26262626, 0.27272727, 0.28282828, 0.29292929,\n",
       "       0.3030303 , 0.31313131, 0.32323232, 0.33333333, 0.34343434,\n",
       "       0.35353535, 0.36363636, 0.37373737, 0.38383838, 0.39393939,\n",
       "       0.4040404 , 0.41414141, 0.42424242, 0.43434343, 0.44444444,\n",
       "       0.45454545, 0.46464646, 0.47474747, 0.48484848, 0.49494949,\n",
       "       0.50505051, 0.51515152, 0.52525253, 0.53535354, 0.54545455,\n",
       "       0.55555556, 0.56565657, 0.57575758, 0.58585859, 0.5959596 ,\n",
       "       0.60606061, 0.61616162, 0.62626263, 0.63636364, 0.64646465,\n",
       "       0.65656566, 0.66666667, 0.67676768, 0.68686869, 0.6969697 ,\n",
       "       0.70707071, 0.71717172, 0.72727273, 0.73737374, 0.74747475,\n",
       "       0.75757576, 0.76767677, 0.77777778, 0.78787879, 0.7979798 ,\n",
       "       0.80808081, 0.81818182, 0.82828283, 0.83838384, 0.84848485,\n",
       "       0.85858586, 0.86868687, 0.87878788, 0.88888889, 0.8989899 ,\n",
       "       0.90909091, 0.91919192, 0.92929293, 0.93939394, 0.94949495,\n",
       "       0.95959596, 0.96969697, 0.97979798, 0.98989899, 1.        ])"
      ]
     },
     "execution_count": 24,
     "metadata": {},
     "output_type": "execute_result"
    }
   ],
   "source": [
    "np.linspace(0,1,100)"
   ]
  },
  {
   "cell_type": "code",
   "execution_count": 25,
   "id": "a71e558a",
   "metadata": {},
   "outputs": [
    {
     "data": {
      "text/plain": [
       "array([58, 83, 15, 28])"
      ]
     },
     "execution_count": 25,
     "metadata": {},
     "output_type": "execute_result"
    }
   ],
   "source": [
    "np.random.randint(10,100,4)"
   ]
  },
  {
   "cell_type": "code",
   "execution_count": 26,
   "id": "cbcc6bba",
   "metadata": {},
   "outputs": [
    {
     "data": {
      "text/plain": [
       "array([ 1, -1])"
      ]
     },
     "execution_count": 26,
     "metadata": {},
     "output_type": "execute_result"
    }
   ],
   "source": [
    "A = np.array([1,0])\n",
    "B = np.array([0,1])\n",
    "D = A - B\n",
    "D"
   ]
  },
  {
   "cell_type": "code",
   "execution_count": 27,
   "id": "f3ac6941",
   "metadata": {},
   "outputs": [
    {
     "data": {
      "text/plain": [
       "array([4, 6])"
      ]
     },
     "execution_count": 27,
     "metadata": {},
     "output_type": "execute_result"
    }
   ],
   "source": [
    "A = np.array([2,3])\n",
    "E = 2*A\n",
    "E"
   ]
  },
  {
   "cell_type": "code",
   "execution_count": 29,
   "id": "bfe32af1",
   "metadata": {},
   "outputs": [
    {
     "data": {
      "text/plain": [
       "array([5., 5., 5., 5., 5., 5., 5., 5., 5., 5.])"
      ]
     },
     "execution_count": 29,
     "metadata": {},
     "output_type": "execute_result"
    }
   ],
   "source": [
    "np.ones(10,float)*5"
   ]
  },
  {
   "cell_type": "code",
   "execution_count": 30,
   "id": "7a6db191",
   "metadata": {},
   "outputs": [
    {
     "data": {
      "text/plain": [
       "array([ 6, 10, 12, 11,  7])"
      ]
     },
     "execution_count": 30,
     "metadata": {},
     "output_type": "execute_result"
    }
   ],
   "source": [
    "A = np.array([2,6,8,7,3])\n",
    "H = A + 4\n",
    "H"
   ]
  },
  {
   "cell_type": "code",
   "execution_count": 31,
   "id": "d988f836",
   "metadata": {},
   "outputs": [
    {
     "name": "stdout",
     "output_type": "stream",
     "text": [
      "[[11 22 33]\n",
      " [14 25 36]]\n"
     ]
    }
   ],
   "source": [
    "arr1 = np.array([[1, 2, 3], [4, 5, 6]])\n",
    "arr2 = np.array([10, 20, 30])\n",
    "result = arr1 + arr2  \n",
    "print(result)"
   ]
  },
  {
   "cell_type": "code",
   "execution_count": 32,
   "id": "3f2851a0",
   "metadata": {},
   "outputs": [
    {
     "name": "stdout",
     "output_type": "stream",
     "text": [
      "5.2\n",
      "8\n"
     ]
    }
   ],
   "source": [
    "A = np.array([2,6,8,7,3])\n",
    "meanA = A.mean()\n",
    "maxA = A.max()\n",
    "\n",
    "print(meanA)\n",
    "print(maxA)"
   ]
  },
  {
   "cell_type": "code",
   "execution_count": null,
   "id": "ccbe2489",
   "metadata": {},
   "outputs": [],
   "source": [
    "np.arange(10,20)"
   ]
  },
  {
   "cell_type": "markdown",
   "id": "bd11feb9",
   "metadata": {},
   "source": [
    "## Different Types OF Arrays"
   ]
  },
  {
   "cell_type": "code",
   "execution_count": 33,
   "id": "ffdab666",
   "metadata": {},
   "outputs": [
    {
     "data": {
      "text/plain": [
       "array([[0., 0., 0., 0., 0.],\n",
       "       [0., 0., 0., 0., 0.],\n",
       "       [0., 0., 0., 0., 0.],\n",
       "       [0., 0., 0., 0., 0.],\n",
       "       [0., 0., 0., 0., 0.]])"
      ]
     },
     "execution_count": 33,
     "metadata": {},
     "output_type": "execute_result"
    }
   ],
   "source": [
    "np.zeros((5,5))"
   ]
  },
  {
   "cell_type": "code",
   "execution_count": 34,
   "id": "4a20236d",
   "metadata": {},
   "outputs": [
    {
     "data": {
      "text/plain": [
       "array([[23., 23.],\n",
       "       [23., 23.],\n",
       "       [23., 23.],\n",
       "       [23., 23.]], dtype=float32)"
      ]
     },
     "execution_count": 34,
     "metadata": {},
     "output_type": "execute_result"
    }
   ],
   "source": [
    "# np.full(shape, fill_value, dtype=None)\n",
    "# for other values\n",
    "np.full((4,2),23,dtype=\"float32\")"
   ]
  },
  {
   "cell_type": "code",
   "execution_count": null,
   "id": "d54e0ff3",
   "metadata": {},
   "outputs": [],
   "source": []
  },
  {
   "cell_type": "code",
   "execution_count": 35,
   "id": "d54da205",
   "metadata": {},
   "outputs": [
    {
     "data": {
      "text/plain": [
       "array([[0.2491184 , 0.70224533, 0.31595781],\n",
       "       [0.36103063, 0.6131805 , 0.21663609]])"
      ]
     },
     "execution_count": 35,
     "metadata": {},
     "output_type": "execute_result"
    }
   ],
   "source": [
    "np.random.rand(2,3)"
   ]
  },
  {
   "cell_type": "code",
   "execution_count": 36,
   "id": "a7f48214",
   "metadata": {},
   "outputs": [
    {
     "data": {
      "text/plain": [
       "array([[2, 0, 1],\n",
       "       [2, 2, 0],\n",
       "       [1, 2, 0]])"
      ]
     },
     "execution_count": 36,
     "metadata": {},
     "output_type": "execute_result"
    }
   ],
   "source": [
    "np.random.randint(3,size=(3,3))"
   ]
  },
  {
   "cell_type": "code",
   "execution_count": 37,
   "id": "c9f8db2e",
   "metadata": {},
   "outputs": [
    {
     "data": {
      "text/plain": [
       "array([[1, 0],\n",
       "       [0, 1]])"
      ]
     },
     "execution_count": 37,
     "metadata": {},
     "output_type": "execute_result"
    }
   ],
   "source": [
    "np.identity(2,dtype='int32')"
   ]
  },
  {
   "cell_type": "code",
   "execution_count": null,
   "id": "ae135cf2",
   "metadata": {},
   "outputs": [],
   "source": []
  },
  {
   "cell_type": "code",
   "execution_count": null,
   "id": "86364330",
   "metadata": {},
   "outputs": [],
   "source": [
    "output=np.ones((5,5))\n",
    "print(output)\n",
    "z=np.zeros((3,3))\n",
    "print(z)\n",
    "z[1,1]=9\n",
    "print(z)"
   ]
  },
  {
   "cell_type": "code",
   "execution_count": null,
   "id": "b5c72fa5",
   "metadata": {},
   "outputs": [],
   "source": [
    "\n",
    "arra_5=np.array([12,3,6])\n",
    "arra_6=arra_5\n",
    "arra_6[0]=2\n",
    "print(arra_5)\n",
    "\n"
   ]
  },
  {
   "cell_type": "code",
   "execution_count": null,
   "id": "feecc9f3",
   "metadata": {},
   "outputs": [],
   "source": [
    "arra_5=np.array([12,3,6])\n",
    "arra_6=arra_5.copy()\n",
    "arra_6[0]=2\n",
    "print(arra_5)"
   ]
  },
  {
   "cell_type": "markdown",
   "id": "a122a133",
   "metadata": {},
   "source": [
    "## Mathematics"
   ]
  },
  {
   "cell_type": "code",
   "execution_count": 38,
   "id": "1321e3b1",
   "metadata": {},
   "outputs": [
    {
     "name": "stdout",
     "output_type": "stream",
     "text": [
      "[1 2 3 4]\n"
     ]
    }
   ],
   "source": [
    "arra_7=np.array([1,2,3,4])\n",
    "print(arra_7)"
   ]
  },
  {
   "cell_type": "code",
   "execution_count": 39,
   "id": "228c25f3",
   "metadata": {},
   "outputs": [
    {
     "name": "stdout",
     "output_type": "stream",
     "text": [
      "[ 8 16 24 32]\n",
      "[4 5 6 7]\n",
      "[-1  0  1  2]\n",
      "[0.5 1.  1.5 2. ]\n"
     ]
    }
   ],
   "source": [
    "print(arra_7*8)\n",
    "print(arra_7+3)\n",
    "print(arra_7-2)\n",
    "print(arra_7/2)"
   ]
  },
  {
   "cell_type": "code",
   "execution_count": 40,
   "id": "affebe70",
   "metadata": {},
   "outputs": [
    {
     "data": {
      "text/plain": [
       "array([[ 1,  3,  5,  7],\n",
       "       [ 5,  7,  9, 11]])"
      ]
     },
     "execution_count": 40,
     "metadata": {},
     "output_type": "execute_result"
    }
   ],
   "source": [
    "arra_8=np.array([[0,1,2,3],[4,5,6,7]])\n",
    "arra_7+arra_8"
   ]
  },
  {
   "cell_type": "code",
   "execution_count": 41,
   "id": "605f11e4",
   "metadata": {},
   "outputs": [
    {
     "name": "stdout",
     "output_type": "stream",
     "text": [
      "[[0 1 2 3]\n",
      " [4 5 6 7]]\n",
      "[[0 4]\n",
      " [1 5]\n",
      " [2 6]\n",
      " [3 7]]\n"
     ]
    }
   ],
   "source": [
    "print(arra_8)\n",
    "trans=np.transpose(arra_8)\n",
    "print(trans)"
   ]
  },
  {
   "cell_type": "code",
   "execution_count": 55,
   "id": "306d754b",
   "metadata": {},
   "outputs": [
    {
     "data": {
      "text/plain": [
       "-1.995200412208242"
      ]
     },
     "execution_count": 55,
     "metadata": {},
     "output_type": "execute_result"
    }
   ],
   "source": [
    "np.tan(90)"
   ]
  },
  {
   "cell_type": "code",
   "execution_count": 48,
   "id": "7bc9480f",
   "metadata": {},
   "outputs": [
    {
     "data": {
      "text/plain": [
       "-0.9524129804151563"
      ]
     },
     "execution_count": 48,
     "metadata": {},
     "output_type": "execute_result"
    }
   ],
   "source": [
    "np.cos()"
   ]
  },
  {
   "cell_type": "markdown",
   "id": "a451c68a",
   "metadata": {},
   "source": [
    "## Linear Algebra"
   ]
  },
  {
   "cell_type": "code",
   "execution_count": 56,
   "id": "487fd24b",
   "metadata": {},
   "outputs": [
    {
     "name": "stdout",
     "output_type": "stream",
     "text": [
      "[[1. 1. 1.]\n",
      " [1. 1. 1.]]\n",
      "[[2 2]\n",
      " [2 2]\n",
      " [2 2]]\n"
     ]
    },
    {
     "data": {
      "text/plain": [
       "array([[6., 6.],\n",
       "       [6., 6.]])"
      ]
     },
     "execution_count": 56,
     "metadata": {},
     "output_type": "execute_result"
    }
   ],
   "source": [
    "arra_9=np.ones((2,3))\n",
    "print(arra_9)\n",
    "\n",
    "arra_10=np.full((3,2),2)\n",
    "print(arra_10)\n",
    "np.matmul(arra_9,arra_10)"
   ]
  },
  {
   "cell_type": "code",
   "execution_count": null,
   "id": "784eb5a3",
   "metadata": {},
   "outputs": [],
   "source": []
  },
  {
   "cell_type": "code",
   "execution_count": null,
   "id": "e89488b8",
   "metadata": {},
   "outputs": [],
   "source": [
    "arra_12=np.array([[12,45,22,56,2,45,8],[19,34,11,44,23,1,0]])\n",
    "np.min(arra_12),np.max(arra_12),np.sum(arra_12)"
   ]
  },
  {
   "cell_type": "code",
   "execution_count": null,
   "id": "4d464d74",
   "metadata": {},
   "outputs": [],
   "source": [
    "product=arra_11*arra_11\n",
    "print(product)"
   ]
  },
  {
   "cell_type": "code",
   "execution_count": null,
   "id": "36ffd92c",
   "metadata": {},
   "outputs": [],
   "source": [
    "arra_1 = np.array([[0, 1], [1, 0]])\n",
    "arra_2 = np.array([[1, 2], [0, 2]])\n",
    "dot_prod = np.dot(arra_1,arra_2)\n",
    "dot_prod"
   ]
  },
  {
   "cell_type": "markdown",
   "id": "57f25e60",
   "metadata": {},
   "source": [
    "# Reorgnizing the Array"
   ]
  },
  {
   "cell_type": "code",
   "execution_count": null,
   "id": "cae1bef6",
   "metadata": {},
   "outputs": [],
   "source": [
    "before=np.array([[12,45,22,56,2,45,8],[19,34,11,44,23,1,0]])\n",
    "print(before)\n",
    "after=before.reshape((7,2))\n",
    "print(after)"
   ]
  },
  {
   "cell_type": "code",
   "execution_count": null,
   "id": "cbe34dad",
   "metadata": {},
   "outputs": [],
   "source": [
    "arra_=np.arange(0,25).reshape(5,5)"
   ]
  },
  {
   "cell_type": "code",
   "execution_count": null,
   "id": "ce971778",
   "metadata": {},
   "outputs": [],
   "source": [
    "arra_"
   ]
  },
  {
   "cell_type": "code",
   "execution_count": null,
   "id": "77b6ac6e",
   "metadata": {},
   "outputs": [],
   "source": [
    "arra_.sum(axis=0) "
   ]
  },
  {
   "cell_type": "code",
   "execution_count": null,
   "id": "7d90b351",
   "metadata": {},
   "outputs": [],
   "source": [
    "arra_.sum(axis=1) "
   ]
  },
  {
   "cell_type": "code",
   "execution_count": null,
   "id": "c3f12361",
   "metadata": {},
   "outputs": [],
   "source": [
    "\n"
   ]
  },
  {
   "cell_type": "code",
   "execution_count": null,
   "id": "550998ac",
   "metadata": {},
   "outputs": [],
   "source": [
    "matrix = np.eye(3)\n",
    "print(matrix)"
   ]
  },
  {
   "cell_type": "code",
   "execution_count": null,
   "id": "93da9fa1",
   "metadata": {},
   "outputs": [],
   "source": []
  },
  {
   "cell_type": "code",
   "execution_count": null,
   "id": "6d76f1f4",
   "metadata": {},
   "outputs": [],
   "source": []
  },
  {
   "cell_type": "code",
   "execution_count": null,
   "id": "94ee1a5f",
   "metadata": {},
   "outputs": [],
   "source": []
  },
  {
   "cell_type": "code",
   "execution_count": null,
   "id": "425429cc",
   "metadata": {},
   "outputs": [],
   "source": []
  },
  {
   "cell_type": "code",
   "execution_count": null,
   "id": "58e550c6",
   "metadata": {},
   "outputs": [],
   "source": []
  },
  {
   "cell_type": "code",
   "execution_count": null,
   "id": "23640adc",
   "metadata": {},
   "outputs": [],
   "source": []
  },
  {
   "cell_type": "code",
   "execution_count": null,
   "id": "39deb658",
   "metadata": {},
   "outputs": [],
   "source": []
  },
  {
   "cell_type": "code",
   "execution_count": null,
   "id": "8747f018",
   "metadata": {},
   "outputs": [],
   "source": []
  }
 ],
 "metadata": {
  "kernelspec": {
   "display_name": "Python 3 (ipykernel)",
   "language": "python",
   "name": "python3"
  },
  "language_info": {
   "codemirror_mode": {
    "name": "ipython",
    "version": 3
   },
   "file_extension": ".py",
   "mimetype": "text/x-python",
   "name": "python",
   "nbconvert_exporter": "python",
   "pygments_lexer": "ipython3",
   "version": "3.9.12"
  }
 },
 "nbformat": 4,
 "nbformat_minor": 5
}
