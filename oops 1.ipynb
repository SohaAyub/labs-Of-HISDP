{
 "cells": [
  {
   "cell_type": "markdown",
   "id": "7a46ba50",
   "metadata": {},
   "source": [
    "# Class"
   ]
  },
  {
   "cell_type": "code",
   "execution_count": null,
   "id": "6a42c47b",
   "metadata": {},
   "outputs": [],
   "source": [
    "class Dog:\n",
    "    ## CONSTRUCTOR is used to define the attributes we will use in our class, also used to initialize the attributes\n",
    "    ## self is responsible for accessing the value when we create the instance\n",
    "    def __init__(self, name, age, breed):\n",
    "        self.name = name\n",
    "        self.age = age\n",
    "        self.breed = breed\n",
    "\n",
    "var1 = Dog('Jack', 2, 'Bulldog')\n",
    "print(var1.name)\n",
    "print(var1.age)\n",
    "print(var1.breed)"
   ]
  },
  {
   "cell_type": "code",
   "execution_count": null,
   "id": "a687cf52",
   "metadata": {},
   "outputs": [],
   "source": [
    "class Dog:\n",
    "    ## CONSTRUCTOR is used to define the attributes we will use in our class, also used to initialize the attributes\n",
    "    ## self is responsible for accessing the value when we create the instance\n",
    "    def __init__(self, name, age, breed):\n",
    "        self.name = name\n",
    "        self.age = age\n",
    "        self.breed = breed\n",
    "    # we use self because we will use self.name for printing\n",
    "    def show_name(self):\n",
    "        print(\"Name of Dog is: \", self.name)\n",
    "    \n",
    "    def show_age(self):\n",
    "        print(\"Age of Dog is: \", self.age)\n",
    "    \n",
    "    def show_breed(self):\n",
    "        print(\"Breed of Dog is: \", self.breed)\n",
    "    def bark(self):\n",
    "        print(f\"{self.name} says woof\")\n",
    "\n",
    "var1 = Dog('Jack', 2, 'Bulldog')\n",
    "var1.show_name()\n",
    "var1.show_age()\n",
    "var1.show_breed()\n",
    "var1.bark()"
   ]
  },
  {
   "cell_type": "code",
   "execution_count": null,
   "id": "e83e3445",
   "metadata": {},
   "outputs": [],
   "source": [
    "\n"
   ]
  },
  {
   "cell_type": "code",
   "execution_count": null,
   "id": "73ff3837",
   "metadata": {},
   "outputs": [],
   "source": [
    "class BankAccount:\n",
    "    def __init__(self, owner, balance=0):\n",
    "        self.owner = owner\n",
    "        self.balance = balance\n",
    "\n",
    "    def deposit(self, amount):\n",
    "        print(\"Amount Deposited: \", amount)\n",
    "        self.balance += amount\n",
    "        print(\"Total Balance: \", self.balance)\n",
    "\n",
    "    def withdraw(self, amount):\n",
    "        if amount > self.balance:\n",
    "            print(\"Insufficient Balance\")\n",
    "        else:\n",
    "            self.balance = self.balance - amount\n",
    "            print(f'{amount} is withdrawn')\n",
    "\n",
    "    def get_balance(self):\n",
    "        return self.balance\n",
    "obj1 = BankAccount(\"xyz\", 1300)\n",
    "obj1.deposit(9000)\n",
    "print(\"Current Balance: \", obj1.get_balance())\n",
    "obj1.withdraw(5000)\n",
    "print(\"Current Balance: \", obj1.get_balance())\n"
   ]
  },
  {
   "cell_type": "code",
   "execution_count": null,
   "id": "4bdc064c",
   "metadata": {},
   "outputs": [],
   "source": [
    "class Car:\n",
    "    def __init__(self,windows,enginetype,doors):\n",
    "        self.windows=windows\n",
    "        self.enginetype=enginetype\n",
    "        self.doors=doors\n",
    "    def Drive(self):\n",
    "        print(f\"The person will drive the {self.enginetype}\")\n",
    "obj=Car(2,\"Hybrid\",2)\n",
    "obj.Drive()"
   ]
  },
  {
   "cell_type": "code",
   "execution_count": null,
   "id": "a8ee113b",
   "metadata": {},
   "outputs": [],
   "source": [
    "class MBW(Car):\n",
    "    def __init__(self,windows,enginetype,doors,self_driving)"
   ]
  },
  {
   "cell_type": "code",
   "execution_count": null,
   "id": "2d814ff8",
   "metadata": {},
   "outputs": [],
   "source": []
  },
  {
   "cell_type": "code",
   "execution_count": null,
   "id": "a0d06edb",
   "metadata": {},
   "outputs": [],
   "source": [
    "#Write a Python class called Rectangle that has attributes length and width. \n",
    "#Implement methods to calculate the area and perimeter of the rectangle."
   ]
  },
  {
   "cell_type": "code",
   "execution_count": null,
   "id": "351a35e6",
   "metadata": {},
   "outputs": [],
   "source": [
    "class Rectangle():\n",
    "    def __init__(self,length,width):\n",
    "        self.length=length\n",
    "        self.width=width\n",
    "    def Area(self):\n",
    "        area=self.length*self.width\n",
    "        print(f\"Area of Rectangle is: {area}\")\n",
    "obj=Rectangle(12,34)\n",
    "obj.Area()"
   ]
  },
  {
   "cell_type": "code",
   "execution_count": null,
   "id": "d3f1c6e2",
   "metadata": {},
   "outputs": [],
   "source": [
    "class employInformation():\n",
    "    def __init__(self,fname,sname,salary,department):\n",
    "        self.fname=fname\n",
    "        self.sname=sname\n",
    "        self.salary=salary\n",
    "        self.department=department\n",
    "    def fullName(self):\n",
    "        print(f'Full name: {self.fname+\" \"+self.sname}')\n",
    "    def email(self):\n",
    "        print(f'Email: {self.fname+self.sname+\"@gmail.com\"}')\n",
    "    def employ_department(self):\n",
    "        print(f'Department: {self.department}')\n",
    "    def employ_salary(self):\n",
    "        print(f'Salary:',self.salary)\n",
    "obj=employInformation('Wasif','Mehmood',3000,'Management')\n",
    "obj.fullName()\n",
    "obj.email()\n",
    "obj.employ_salary()\n",
    "obj.employ_department()"
   ]
  },
  {
   "cell_type": "code",
   "execution_count": null,
   "id": "38499b30",
   "metadata": {},
   "outputs": [],
   "source": []
  },
  {
   "cell_type": "code",
   "execution_count": null,
   "id": "265975c0",
   "metadata": {},
   "outputs": [],
   "source": []
  },
  {
   "cell_type": "code",
   "execution_count": null,
   "id": "de5bcd95",
   "metadata": {},
   "outputs": [],
   "source": [
    "class Dog:\n",
    "    def __init__(self, name, age, breed):\n",
    "        self.name = name\n",
    "        self.age = age\n",
    "        self.breed = breed\n",
    "    \n",
    "    def show_name(self):\n",
    "        print(\"Name of Dog is:\", self.name)\n",
    "    \n",
    "    def show_age(self):\n",
    "        print(\"Age of Dog is:\", self.age)\n",
    "    \n",
    "    def show_breed(self):\n",
    "        print(\"Breed of Dog is:\", self.breed)\n",
    "    \n",
    "    def bark(self):\n",
    "        print(f'{self.name} says woof')\n",
    "\n",
    "class Husky(Dog):\n",
    "    def __init__(self, name, age, breed, origin):\n",
    "        super().__init__(name, age, breed)\n",
    "        self.origin = origin\n",
    "    \n",
    "    def show_origin(self):\n",
    "        print(f'Origin of Husky is: {self.origin}')\n",
    "        super().bark()\n",
    "\n",
    "var1 = Dog('Jack', 2, 'Bulldog')\n",
    "var2 = Husky('Tom', 2, 'Husky', 'Siberia')\n",
    "var2.show_breed() \n",
    "var2.show_origin() "
   ]
  },
  {
   "cell_type": "code",
   "execution_count": null,
   "id": "e12e9824",
   "metadata": {},
   "outputs": [],
   "source": []
  },
  {
   "cell_type": "code",
   "execution_count": null,
   "id": "f1e2310e",
   "metadata": {},
   "outputs": [],
   "source": [
    "class Employee:\n",
    "    def __init__(self, name, employee_id):\n",
    "        self.name = name\n",
    "        self.employee_id = employee_id\n",
    "    \n",
    "    def display_info(self):\n",
    "        print(f\"Name: {self.name}\")\n",
    "        print(f\"Employee ID: {self.employee_id}\")\n",
    "\n",
    "class Manager(Employee):\n",
    "    def __init__(self, name, employee_id, department):\n",
    "        super().__init__(name, employee_id)\n",
    "        self.department = department\n",
    "    \n",
    "    def display_info(self):\n",
    "        super().display_info()\n",
    "        print(f\"Department: {self.department}\")\n",
    "    \n",
    "    def get_info(self):\n",
    "        return f\"{self.name} (ID: {self.employee_id}) is a Manager in {self.department} department.\"\n",
    "manager = Manager(name=\"XYZ\", employee_id=\"M123\", department=\"HR\")\n",
    "print(manager.get_info())  \n",
    "manager.display_info()\n",
    "\n"
   ]
  },
  {
   "cell_type": "code",
   "execution_count": null,
   "id": "dc75ae05",
   "metadata": {},
   "outputs": [],
   "source": [
    "class Vehicle:\n",
    "    def __init__(self, make, model):\n",
    "        self.make = make\n",
    "        self.model = model\n",
    "    def start(self):\n",
    "        return \"Vehicle started.\"\n",
    "class Car(Vehicle):\n",
    "    def __init__(self, make, model, year):\n",
    "        super().__init__(make, model)\n",
    "        self.year = year\n",
    "    \n",
    "    def start(self):\n",
    "        base_start = super().start()\n",
    "        return f\"{base_start} {self.year} {self.make} {self.model} is ready to go.\"\n",
    "\n",
    "car = Car(\"Toyota\", \"XLI\", 2020)\n",
    "print(car.start())"
   ]
  },
  {
   "cell_type": "code",
   "execution_count": null,
   "id": "a220af16",
   "metadata": {},
   "outputs": [],
   "source": [
    "def add(a, b):\n",
    "    return a + b\n",
    "\n",
    "print(add(5, 3))        \n",
    "print(add(2.5, 3.5))    \n",
    "print(add(\"Hello, \", \"World!\"))  \n"
   ]
  },
  {
   "cell_type": "code",
   "execution_count": null,
   "id": "bbc9a8ba",
   "metadata": {},
   "outputs": [],
   "source": [
    "class Animal:\n",
    "    def make_sound(self):\n",
    "        pass\n",
    "\n",
    "class Dog(Animal):\n",
    "    def make_sound(self):\n",
    "        return \"Woof!\"\n",
    "\n",
    "class Cat(Animal):\n",
    "    def make_sound(self):\n",
    "        return \"Meow!\"\n",
    "\n",
    "def print_animal_sound(animal):\n",
    "    print(animal.make_sound())\n",
    "\n",
    "dog = Dog()\n",
    "cat = Cat()\n",
    "\n",
    "print_animal_sound(dog)\n",
    "print_animal_sound(cat)  \n"
   ]
  },
  {
   "cell_type": "code",
   "execution_count": null,
   "id": "93e05cf8",
   "metadata": {},
   "outputs": [],
   "source": [
    "import math\n",
    "\n",
    "class Shape:\n",
    "    def area(self):\n",
    "        pass\n",
    "\n",
    "class Rectangle(Shape):\n",
    "    def __init__(self, width, height):\n",
    "        self.width = width\n",
    "        self.height = height\n",
    "\n",
    "    def area(self):\n",
    "        return self.width * self.height\n",
    "\n",
    "class Circle(Shape):\n",
    "    def __init__(self, radius):\n",
    "        self.radius = radius\n",
    "\n",
    "    def area(self):\n",
    "        return math.pi * self.radius * self.radius\n",
    "\n",
    "rectangle = Rectangle(4, 5)\n",
    "circle = Circle(3)\n",
    "\n",
    "print(\"Rectangle area:\", rectangle.area())\n",
    "print(\"Circle area:\", circle.area())       \n"
   ]
  },
  {
   "cell_type": "code",
   "execution_count": null,
   "id": "132a725c",
   "metadata": {},
   "outputs": [],
   "source": [
    "class Shape:\n",
    "    def perimeter(self):\n",
    "        pass\n",
    "class Square(Shape):\n",
    "    def __init__(self, side):\n",
    "        self.side = side\n",
    "\n",
    "    def perimeter(self):\n",
    "        return 4 * self.side\n",
    "\n",
    "class Triangle(Shape):\n",
    "    def __init__(self, side1, side2, side3):\n",
    "        self.side1 = side1\n",
    "        self.side2 = side2\n",
    "        self.side3 = side3\n",
    "\n",
    "    def perimeter(self):\n",
    "        return self.side1 + self.side2 + self.side3\n",
    "def print_shape_perimeter(shape):\n",
    "    print(f\"The perimeter is: {shape.perimeter()}\")\n",
    "\n",
    "\n",
    "sq = Square(5)\n",
    "tri = Triangle(3, 4, 5)\n",
    "\n",
    "print_shape_perimeter(sq)\n",
    "print_shape_perimeter(tri)  \n"
   ]
  },
  {
   "cell_type": "code",
   "execution_count": null,
   "id": "936a4fb2",
   "metadata": {},
   "outputs": [],
   "source": []
  },
  {
   "cell_type": "code",
   "execution_count": null,
   "id": "dbf935da",
   "metadata": {},
   "outputs": [],
   "source": []
  },
  {
   "cell_type": "markdown",
   "id": "6f0e70fb",
   "metadata": {},
   "source": [
    "# Abstraction"
   ]
  },
  {
   "cell_type": "markdown",
   "id": "347227ad",
   "metadata": {},
   "source": [
    "Hiding off the complex implementations and only show the necessary features,while implementing the abstarct method it will be the complete empty. it give the authorthy to child class to implement the method according to its need,we cant create the object of abstarct class,also withoutt definning the abstarct method in child class we cant create the obj of child class"
   ]
  },
  {
   "cell_type": "code",
   "execution_count": 2,
   "id": "cb83192c",
   "metadata": {},
   "outputs": [],
   "source": [
    "from abc import ABC,abstractclassmethod"
   ]
  },
  {
   "cell_type": "code",
   "execution_count": 4,
   "id": "67f40df8",
   "metadata": {},
   "outputs": [
    {
     "name": "stdout",
     "output_type": "stream",
     "text": [
      "Car engine started\n"
     ]
    }
   ],
   "source": [
    "class Vehicle(ABC):\n",
    "    def drive(self):\n",
    "        print(\"The vehicle is used for driving\")\n",
    "    @abstractclassmethod\n",
    "    def start_engine(self):\n",
    "        pass\n",
    "\n",
    "class Car(Vehicle):\n",
    "    def start_engine(self):\n",
    "        print(\"Car engine started\")\n",
    "    def operate_vehicle(vehicle):\n",
    "        vehicle.drive()\n",
    "        vehicle.start_engine()\n",
    "car=Car()\n",
    "car.start_engine()"
   ]
  },
  {
   "cell_type": "code",
   "execution_count": null,
   "id": "45092e1c",
   "metadata": {},
   "outputs": [],
   "source": [
    "from abc import ABC\n",
    "class Computer(ABC):\n",
    "    \n",
    "    @abstractclassmethod\n",
    "    def display(self):\n",
    "        pass\n",
    "class Laptops(Computer):\n",
    "    def display(self):\n",
    "        print(\"Laptop\")\n",
    "obj=Laptops()\n",
    "obj.display()"
   ]
  },
  {
   "cell_type": "code",
   "execution_count": null,
   "id": "e5b79bf5",
   "metadata": {},
   "outputs": [],
   "source": [
    "from abc import ABC, abstractmethod\n",
    "class Animal(ABC):\n",
    "    @abstractmethod\n",
    "    def sound(self):\n",
    "        pass\n",
    "class Dog(Animal):\n",
    "    def sound(self):\n",
    "        return \"Bark\"\n",
    "\n",
    "class Cat(Animal):\n",
    "    def sound(self):\n",
    "        return \"Meow\"\n",
    "dog = Dog()\n",
    "print(dog.sound()) \n",
    "\n",
    "cat = Cat()\n",
    "print(cat.sound())\n"
   ]
  },
  {
   "cell_type": "code",
   "execution_count": null,
   "id": "dbb2c31d",
   "metadata": {},
   "outputs": [],
   "source": [
    "from abc import ABC, abstractmethod\n",
    "\n",
    "# Abstract class\n",
    "class Shape(ABC):\n",
    "    @abstractmethod\n",
    "    def area(self):\n",
    "        pass\n",
    "class Rectangle(Shape):\n",
    "    def __init__(self, width, height):\n",
    "        self.width = width\n",
    "        self.height = height\n",
    "    \n",
    "    def area(self):\n",
    "        return self.width * self.height\n",
    "\n",
    "class Circle(Shape):\n",
    "    def __init__(self, radius):\n",
    "        self.radius = radius\n",
    "    \n",
    "    def area(self):\n",
    "        return 3.1416 * self.radius ** 2\n",
    "rect = Rectangle(10, 20)\n",
    "print(f\"Rectangle Area: {rect.area()}\")\n",
    "\n",
    "circle = Circle(5)\n",
    "print(f\"Circle Area: {circle.area()}\")\n"
   ]
  },
  {
   "cell_type": "code",
   "execution_count": null,
   "id": "92a49bf6",
   "metadata": {},
   "outputs": [],
   "source": [
    "a=float(input(\"Enter any number: \"))\n",
    "b=float(input(\"Enter any number: \"))\n",
    "sum=a+b\n",
    "sub=a-b\n",
    "mult=a*b\n",
    "div=a/b\n",
    "power=a**b\n",
    "\n",
    "print(\"The sum is: \",sum)\n",
    "print(\"Subtraction of a b is : \",sub)\n",
    "print(\"Multiplication of a b is: \",mult)\n",
    "print(\"Division of a b is: \",div)\n",
    "print(\"Power a to b is: \",power)"
   ]
  },
  {
   "cell_type": "code",
   "execution_count": null,
   "id": "5a52b99e",
   "metadata": {},
   "outputs": [],
   "source": [
    "class University:\n",
    "    def __init__(self,name,location):\n",
    "        self.name=name\n",
    "        self.location=location\n",
    "    def display_info(self):\n",
    "        print(f'Name of university is {self.name} and is located at {self.location}')\n",
    "class Subcampus(University):\n",
    "    def __init__(self,name,location,campus_name):\n",
    "        super().__init__(name,location)\n",
    "        self.campus_name=campus_name\n",
    "    def display_info(self):\n",
    "        super().display_info()\n",
    "        print(f'subcampus is {self.campus_name}')\n",
    "obj=Subcampus(\"xy\",\"gy\",'uio')\n",
    "obj.display_info()"
   ]
  },
  {
   "cell_type": "code",
   "execution_count": null,
   "id": "66660fb3",
   "metadata": {},
   "outputs": [],
   "source": [
    "class Calculator:\n",
    "    def add(self, a=None, b=None, c=None):\n",
    "        if a!=None and b!=None and c!=None:\n",
    "            return a + b + c  \n",
    "        elif a !=None and b !=None:\n",
    "            return a + b \n",
    "        elif a !=None:\n",
    "            return a  \n",
    "        else:\n",
    "            return 0 \n",
    "calc = Calculator()\n",
    "print(calc.add(10))           \n",
    "print(calc.add(10, 20))\n",
    "print(calc.add(10, 20, 30))\n"
   ]
  },
  {
   "cell_type": "code",
   "execution_count": 7,
   "id": "3a99a6ac",
   "metadata": {},
   "outputs": [
    {
     "name": "stdout",
     "output_type": "stream",
     "text": [
      "HelloWorld\n",
      "32\n",
      "30.5\n"
     ]
    }
   ],
   "source": [
    "class Addition:\n",
    "    def add(self, a: int, b: int) -> int:\n",
    "        return a + b\n",
    "    \n",
    "    def add(self, a: float, b: float) -> float:\n",
    "        return a + b\n",
    "    \n",
    "    def add(self, a: str, b: str) -> str:\n",
    "        return a + b\n",
    "obj = Addition()\n",
    "print(obj.add(\"Hello\",\"World\"))\n",
    "print(obj.add(12, 20))\n",
    "print(obj.add(10, 20.5))\n"
   ]
  },
  {
   "cell_type": "code",
   "execution_count": null,
   "id": "c10e4881",
   "metadata": {},
   "outputs": [],
   "source": [
    "class StringFormatter:\n",
    "    def format(self, s: str, width: int) -> str:\n",
    "        return s.ljust(width)\n",
    "    \n",
    "    def format(self, s: str, width: int, fill_char: str) -> str:\n",
    "        return s.ljust(width, fill_char)\n",
    "    \n",
    "    def format(self, s: str) -> str:\n",
    "        return s.upper()\n",
    "\n",
    "obj = StringFormatter()\n",
    "print(obj.format(\"Hello\", 10))         \n",
    "print(obj.format(\"Hello\", 10, '*'))     \n",
    "print(obj.format(\"Hello\"))"
   ]
  },
  {
   "cell_type": "code",
   "execution_count": null,
   "id": "22c811d7",
   "metadata": {},
   "outputs": [],
   "source": [
    "class StringFormatter:\n",
    "    def format(self, s: str, width: int = None, fill_char: str = None) -> str:\n",
    "        if width is None and fill_char is None:\n",
    "            return s.upper() \n",
    "        elif fill_char is None:\n",
    "            return s.ljust(width)\n",
    "        else:\n",
    "            return s.ljust(width, fill_char)  \n",
    "\n",
    "obj = StringFormatter()\n",
    "print(obj.format(\"Hello\"))              \n",
    "print(obj.format(\"Hello\", 10))          \n",
    "print(obj.format(\"Hello\", 10, '*'))\n",
    "    \n"
   ]
  },
  {
   "cell_type": "markdown",
   "id": "6c796c80",
   "metadata": {},
   "source": [
    "# Encapsulation"
   ]
  },
  {
   "cell_type": "code",
   "execution_count": 8,
   "id": "11bfa7e9",
   "metadata": {},
   "outputs": [
    {
     "name": "stdout",
     "output_type": "stream",
     "text": [
      "I am public\n",
      "I am protected\n"
     ]
    },
    {
     "ename": "AttributeError",
     "evalue": "'AccessModifier' object has no attribute '__private_var'",
     "output_type": "error",
     "traceback": [
      "\u001b[1;31m---------------------------------------------------------------------------\u001b[0m",
      "\u001b[1;31mAttributeError\u001b[0m                            Traceback (most recent call last)",
      "Input \u001b[1;32mIn [8]\u001b[0m, in \u001b[0;36m<cell line: 16>\u001b[1;34m()\u001b[0m\n\u001b[0;32m     14\u001b[0m \u001b[38;5;28mprint\u001b[39m(obj\u001b[38;5;241m.\u001b[39mpublic_var)           \n\u001b[0;32m     15\u001b[0m \u001b[38;5;28mprint\u001b[39m(obj\u001b[38;5;241m.\u001b[39m_protected_var)        \n\u001b[1;32m---> 16\u001b[0m \u001b[38;5;28mprint\u001b[39m(\u001b[43mobj\u001b[49m\u001b[38;5;241;43m.\u001b[39;49m\u001b[43m__private_var\u001b[49m)\n",
      "\u001b[1;31mAttributeError\u001b[0m: 'AccessModifier' object has no attribute '__private_var'"
     ]
    }
   ],
   "source": [
    "class AccessModifier:\n",
    "    def __init__(self):\n",
    "        self.public_var = \"I am public\"         \n",
    "        self._protected_var = \"I am protected\" \n",
    "        self.__private_var = \"I am private\"\n",
    "\n",
    "    def show_variables(self):\n",
    "        print(self.public_var)\n",
    "        print(self._protected_var)\n",
    "        print(self.__private_var)\n",
    "\n",
    "\n",
    "obj = AccessModifier()\n",
    "print(obj.public_var)           \n",
    "print(obj._protected_var)        \n",
    "print(obj.__private_var)\n"
   ]
  },
  {
   "cell_type": "code",
   "execution_count": null,
   "id": "2064db43",
   "metadata": {},
   "outputs": [],
   "source": [
    "class shape:\n",
    "    def __init__(self,length):\n",
    "        self.length=length\n",
    "class rectangle(shape):\n",
    "    def __init__(self,length):\n",
    "        super(). __init__(length)\n",
    "    def area(self):\n",
    "        return self.length*self.length\n",
    "obj=rectangle(12)\n",
    "obj.area()"
   ]
  },
  {
   "cell_type": "code",
   "execution_count": null,
   "id": "0c930413",
   "metadata": {},
   "outputs": [],
   "source": [
    "class student:\n",
    "    def __int__(self):\n",
    "        self.__name=\"\"\n",
    "    def getname(self):\n",
    "        return self.__name\n",
    "    def setname(self,name):\n",
    "        self.__name=name\n",
    "obj=student()\n",
    "obj.setname(\"aa\")\n",
    "print(obj.name)"
   ]
  },
  {
   "cell_type": "code",
   "execution_count": 9,
   "id": "28a400f6",
   "metadata": {},
   "outputs": [
    {
     "name": "stdout",
     "output_type": "stream",
     "text": [
      "0\n",
      "100\n"
     ]
    }
   ],
   "source": [
    "class BankAccount:\n",
    "    def __init__(self, balance=0):\n",
    "        self.__balance = balance  \n",
    "    def get_balance(self):\n",
    "        return self.__balance\n",
    "    def set_balance(self, amount):\n",
    "        if amount >= 0:\n",
    "            self.__balance = amount\n",
    "        else:\n",
    "            print(\"Invalid amount: balance cannot be negative.\")\n",
    "\n",
    "obj = BankAccount()\n",
    "print(obj.get_balance())\n",
    "obj.set_balance(100)\n",
    "print(obj.get_balance())\n"
   ]
  },
  {
   "cell_type": "code",
   "execution_count": null,
   "id": "fcb97092",
   "metadata": {},
   "outputs": [],
   "source": [
    "class Employee:\n",
    "    def __init__(self, name, salary):\n",
    "        self.name = name            \n",
    "        self.__salary = salary     \n",
    "    \n",
    "    def get_salary(self):\n",
    "        return self.__salary\n",
    "    \n",
    "    def set_salary(self, new_salary):\n",
    "        if new_salary > 0:\n",
    "            self.__salary = new_salary\n",
    "\n",
    "\n",
    "obj = Employee(\"XYZ\", 5000)\n",
    "print(obj.salary)\n",
    "print(emp.name)               \n",
    "print(emp.get_salary())     \n"
   ]
  },
  {
   "cell_type": "code",
   "execution_count": null,
   "id": "d09249a2",
   "metadata": {},
   "outputs": [],
   "source": []
  },
  {
   "cell_type": "code",
   "execution_count": null,
   "id": "44176bf9",
   "metadata": {},
   "outputs": [],
   "source": []
  },
  {
   "cell_type": "code",
   "execution_count": null,
   "id": "2d2e1aa2",
   "metadata": {},
   "outputs": [],
   "source": []
  },
  {
   "cell_type": "code",
   "execution_count": null,
   "id": "7123c730",
   "metadata": {},
   "outputs": [],
   "source": []
  },
  {
   "cell_type": "code",
   "execution_count": null,
   "id": "1caa47c9",
   "metadata": {},
   "outputs": [],
   "source": []
  },
  {
   "cell_type": "code",
   "execution_count": null,
   "id": "3419be1c",
   "metadata": {},
   "outputs": [],
   "source": []
  },
  {
   "cell_type": "code",
   "execution_count": null,
   "id": "a3a2a3cd",
   "metadata": {},
   "outputs": [],
   "source": []
  },
  {
   "cell_type": "code",
   "execution_count": null,
   "id": "146cac78",
   "metadata": {},
   "outputs": [],
   "source": []
  },
  {
   "cell_type": "code",
   "execution_count": null,
   "id": "f4d7f6d3",
   "metadata": {},
   "outputs": [],
   "source": []
  },
  {
   "cell_type": "code",
   "execution_count": null,
   "id": "2892b67e",
   "metadata": {},
   "outputs": [],
   "source": []
  },
  {
   "cell_type": "code",
   "execution_count": null,
   "id": "01a524fc",
   "metadata": {},
   "outputs": [],
   "source": []
  },
  {
   "cell_type": "code",
   "execution_count": null,
   "id": "7ed7a269",
   "metadata": {},
   "outputs": [],
   "source": []
  },
  {
   "cell_type": "code",
   "execution_count": null,
   "id": "2d1bbf00",
   "metadata": {},
   "outputs": [],
   "source": []
  },
  {
   "cell_type": "code",
   "execution_count": null,
   "id": "350b4009",
   "metadata": {},
   "outputs": [],
   "source": []
  },
  {
   "cell_type": "code",
   "execution_count": null,
   "id": "4c7150a9",
   "metadata": {},
   "outputs": [],
   "source": []
  },
  {
   "cell_type": "code",
   "execution_count": null,
   "id": "ee5cd4f5",
   "metadata": {},
   "outputs": [],
   "source": [
    "import numpy as np\n",
    "\n",
    "def nearest_neighbor(array1, array2, norm=2):\n",
    "    # Initialize an empty list to store the pairs of closest points\n",
    "    closest_points = []\n",
    "\n",
    "    # Define the distance calculation based on the norm identifier\n",
    "    def calculate_distance(p1, p2, norm):\n",
    "        if norm == 1:\n",
    "            return np.sum(np.abs(p1 - p2))\n",
    "        elif norm == 2:\n",
    "            return np.sqrt(np.sum((p1 - p2) ** 2))\n",
    "        elif norm == np.inf:\n",
    "            return np.max(np.abs(p1 - p2))\n",
    "        else:\n",
    "            raise ValueError(\"Norm must be 1, 2, or ∞\")\n",
    "\n",
    "    # Iterate through each point in array1\n",
    "    for point1 in array1:\n",
    "        # Initialize minimum distance to a large number\n",
    "        min_distance = float('inf')\n",
    "        nearest_point = None\n",
    "        \n",
    "        # Iterate through each point in array2\n",
    "        for point2 in array2:\n",
    "            distance = calculate_distance(point1, point2, norm)\n",
    "            if distance < min_distance:\n",
    "                min_distance = distance\n",
    "                nearest_point = point2\n",
    "\n",
    "        # Append the pair of points (point1, nearest_point) to the list\n",
    "        closest_points.append((point1, nearest_point))\n",
    "\n",
    "    return closest_points\n",
    "\n",
    "# Example usage\n",
    "array1 = np.array([[1, 2], [3, 4], [5, 6]])\n",
    "array2 = np.array([[7, 8], [2, 3], [4, 5]])\n",
    "norm = 2\n",
    "\n",
    "print(nearest_neighbor(array1, array2, norm))\n"
   ]
  }
 ],
 "metadata": {
  "kernelspec": {
   "display_name": "Python 3 (ipykernel)",
   "language": "python",
   "name": "python3"
  },
  "language_info": {
   "codemirror_mode": {
    "name": "ipython",
    "version": 3
   },
   "file_extension": ".py",
   "mimetype": "text/x-python",
   "name": "python",
   "nbconvert_exporter": "python",
   "pygments_lexer": "ipython3",
   "version": "3.9.12"
  }
 },
 "nbformat": 4,
 "nbformat_minor": 5
}
