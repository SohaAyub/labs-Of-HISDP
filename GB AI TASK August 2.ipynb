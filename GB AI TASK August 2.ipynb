{
 "cells": [
  {
   "cell_type": "markdown",
   "id": "47a76f79",
   "metadata": {},
   "source": [
    "# List"
   ]
  },
  {
   "cell_type": "code",
   "execution_count": 3,
   "id": "7c13c149",
   "metadata": {},
   "outputs": [
    {
     "name": "stdout",
     "output_type": "stream",
     "text": [
      "[12, 13, 'Apple']\n"
     ]
    }
   ],
   "source": [
    "A=[12,13,\"Apple\"]\n",
    "print(A)"
   ]
  },
  {
   "cell_type": "code",
   "execution_count": 4,
   "id": "fac202b3",
   "metadata": {},
   "outputs": [
    {
     "name": "stdout",
     "output_type": "stream",
     "text": [
      "12\n",
      "13\n",
      "Apple\n"
     ]
    }
   ],
   "source": [
    "for i in A:\n",
    "    print(i)"
   ]
  },
  {
   "cell_type": "code",
   "execution_count": 5,
   "id": "7a346f95",
   "metadata": {},
   "outputs": [
    {
     "data": {
      "text/plain": [
       "['Pineapple', 13, 'Apple']"
      ]
     },
     "execution_count": 5,
     "metadata": {},
     "output_type": "execute_result"
    }
   ],
   "source": [
    "A[0]=\"Pineapple\"\n",
    "A"
   ]
  },
  {
   "cell_type": "code",
   "execution_count": 6,
   "id": "92873739",
   "metadata": {},
   "outputs": [
    {
     "data": {
      "text/plain": [
       "['Pineapple', 13, 'Apple', 1]"
      ]
     },
     "execution_count": 6,
     "metadata": {},
     "output_type": "execute_result"
    }
   ],
   "source": [
    "A.append(1)\n",
    "A"
   ]
  },
  {
   "cell_type": "code",
   "execution_count": 7,
   "id": "fec2984e",
   "metadata": {},
   "outputs": [
    {
     "data": {
      "text/plain": [
       "['Pineapple', 13, 'Vector', 'Apple', 1]"
      ]
     },
     "execution_count": 7,
     "metadata": {},
     "output_type": "execute_result"
    }
   ],
   "source": [
    "A.insert(2,\"Vector\")\n",
    "A"
   ]
  },
  {
   "cell_type": "code",
   "execution_count": 8,
   "id": "01e14941",
   "metadata": {},
   "outputs": [],
   "source": [
    "A.append(\"Water\")"
   ]
  },
  {
   "cell_type": "code",
   "execution_count": 9,
   "id": "69c4f8c2",
   "metadata": {},
   "outputs": [
    {
     "data": {
      "text/plain": [
       "['Pineapple', 13, 'Vector', 'Apple', 1]"
      ]
     },
     "execution_count": 9,
     "metadata": {},
     "output_type": "execute_result"
    }
   ],
   "source": [
    "A.pop() # will remove last item form list\n",
    "A"
   ]
  },
  {
   "cell_type": "code",
   "execution_count": null,
   "id": "5df837a0",
   "metadata": {},
   "outputs": [],
   "source": [
    "del A[0] # it works on index\n",
    "A"
   ]
  },
  {
   "cell_type": "code",
   "execution_count": null,
   "id": "05973872",
   "metadata": {},
   "outputs": [],
   "source": [
    "A.clear()\n",
    "A"
   ]
  },
  {
   "cell_type": "code",
   "execution_count": null,
   "id": "7a9fab2f",
   "metadata": {},
   "outputs": [],
   "source": [
    "A=[12,13,\"Apple\"]"
   ]
  },
  {
   "cell_type": "code",
   "execution_count": null,
   "id": "d920f449",
   "metadata": {},
   "outputs": [],
   "source": [
    "for i in range(len(A)):\n",
    "    print(A[i])"
   ]
  },
  {
   "cell_type": "code",
   "execution_count": null,
   "id": "da4a10ba",
   "metadata": {},
   "outputs": [],
   "source": [
    "for i in A:\n",
    "    print(i)"
   ]
  },
  {
   "cell_type": "markdown",
   "id": "bb856bc7",
   "metadata": {},
   "source": [
    "## Sorting"
   ]
  },
  {
   "cell_type": "code",
   "execution_count": null,
   "id": "ccd7b558",
   "metadata": {},
   "outputs": [],
   "source": [
    "A=[12,13,14,16,100,67,23]\n",
    "A.sort()\n",
    "A"
   ]
  },
  {
   "cell_type": "code",
   "execution_count": null,
   "id": "e200227a",
   "metadata": {},
   "outputs": [],
   "source": [
    "A=[12,13,\"Apple\",\"ch\",True,False]\n",
    "A.sort(reverse=True)\n",
    "A"
   ]
  },
  {
   "cell_type": "code",
   "execution_count": null,
   "id": "25b9ac50",
   "metadata": {},
   "outputs": [],
   "source": [
    "A=[\"Apple\",\"ch\"]\n",
    "A.sort(reverse=True)\n",
    "A"
   ]
  },
  {
   "cell_type": "code",
   "execution_count": null,
   "id": "f80a8d8b",
   "metadata": {},
   "outputs": [],
   "source": [
    "A=[\"orange\", \"mango\", \"kiwi\", \"pineapple\", \"banana\"]\n",
    "A.sort(reverse=True)\n",
    "A"
   ]
  },
  {
   "cell_type": "code",
   "execution_count": null,
   "id": "dd883e01",
   "metadata": {},
   "outputs": [],
   "source": [
    "A=[\"character\",\"Wifi\",12,\"Kivi\",12.0]\n",
    "B=A.copy()\n",
    "B"
   ]
  },
  {
   "cell_type": "code",
   "execution_count": null,
   "id": "69914ff5",
   "metadata": {},
   "outputs": [],
   "source": [
    "A=[\"character\",\"Wifi\",12,\"Kivi\",12.0]\n",
    "B=A"
   ]
  },
  {
   "cell_type": "code",
   "execution_count": null,
   "id": "31ab5c62",
   "metadata": {},
   "outputs": [],
   "source": [
    "B"
   ]
  },
  {
   "cell_type": "markdown",
   "id": "2d5f8841",
   "metadata": {},
   "source": [
    "## Tuple"
   ]
  },
  {
   "cell_type": "code",
   "execution_count": null,
   "id": "38280a2a",
   "metadata": {},
   "outputs": [],
   "source": [
    "tp=(\"character\",\"Wifi\",12,\"Kivi\",12.0)"
   ]
  },
  {
   "cell_type": "code",
   "execution_count": null,
   "id": "b55acf47",
   "metadata": {},
   "outputs": [],
   "source": [
    "len(tp)"
   ]
  },
  {
   "cell_type": "code",
   "execution_count": null,
   "id": "b75f4309",
   "metadata": {},
   "outputs": [],
   "source": [
    "for i in range(len(tp)):\n",
    "    print(tp[i])"
   ]
  },
  {
   "cell_type": "code",
   "execution_count": null,
   "id": "bcfdcb12",
   "metadata": {},
   "outputs": [],
   "source": [
    "tp=('tuple')\n",
    "type(tp)"
   ]
  },
  {
   "cell_type": "code",
   "execution_count": null,
   "id": "07f95163",
   "metadata": {},
   "outputs": [],
   "source": [
    "tp=('tuple',)\n",
    "type(tp)"
   ]
  },
  {
   "cell_type": "code",
   "execution_count": null,
   "id": "9082e1fd",
   "metadata": {},
   "outputs": [],
   "source": [
    "tp1 = (\"apple\", \"banana\", \"cherry\")\n",
    "tp2 = (1, 5, 7, 9, 3)\n",
    "tp3 = (True, False, False)"
   ]
  },
  {
   "cell_type": "code",
   "execution_count": null,
   "id": "9df54e66",
   "metadata": {},
   "outputs": [],
   "source": [
    "type(tp1)\n",
    "type(tp2)\n",
    "type(tp3)"
   ]
  },
  {
   "cell_type": "code",
   "execution_count": null,
   "id": "6f13670c",
   "metadata": {},
   "outputs": [],
   "source": [
    "tp=(\"character\",\"Wifi\",12,\"Kivi\",12.0)\n",
    "tp[-5]"
   ]
  },
  {
   "cell_type": "code",
   "execution_count": 3,
   "id": "f6669b70",
   "metadata": {},
   "outputs": [
    {
     "data": {
      "text/plain": [
       "('apple', 'banana', 'cherry', 1)"
      ]
     },
     "execution_count": 3,
     "metadata": {},
     "output_type": "execute_result"
    }
   ],
   "source": [
    "tp = (\"apple\", \"banana\", \"cherry\")\n",
    "a=(1,)\n",
    "tp=tp+a\n",
    "tp"
   ]
  },
  {
   "cell_type": "code",
   "execution_count": null,
   "id": "18d0e107",
   "metadata": {},
   "outputs": [],
   "source": [
    "tp1 = (\"apple\", \"banana\", \"cherry\")\n",
    "tp2 = (1, 5, 7, 9, 3)\n",
    "tp=tp1+tp2\n",
    "tp"
   ]
  },
  {
   "cell_type": "code",
   "execution_count": 4,
   "id": "7cf50668",
   "metadata": {},
   "outputs": [
    {
     "data": {
      "text/plain": [
       "('apple', 'banana', 'cherry', 'apple', 'banana', 'cherry')"
      ]
     },
     "execution_count": 4,
     "metadata": {},
     "output_type": "execute_result"
    }
   ],
   "source": [
    "tp1 = (\"apple\", \"banana\", \"cherry\")\n",
    "tp=tp1*2\n",
    "tp"
   ]
  },
  {
   "cell_type": "markdown",
   "id": "500961b3",
   "metadata": {},
   "source": [
    "## Dictionaries"
   ]
  },
  {
   "cell_type": "code",
   "execution_count": null,
   "id": "7822c2e4",
   "metadata": {},
   "outputs": [],
   "source": [
    "my_dict = {\n",
    "  \"brand\": \"Ford\",\n",
    "  \"model\": \"Mustang\",\n",
    "  \"year\": 1964\n",
    "}\n",
    "my_dict"
   ]
  },
  {
   "cell_type": "code",
   "execution_count": null,
   "id": "8aaa29a3",
   "metadata": {},
   "outputs": [],
   "source": [
    "my_dict.keys()"
   ]
  },
  {
   "cell_type": "code",
   "execution_count": null,
   "id": "f6e905e5",
   "metadata": {},
   "outputs": [],
   "source": [
    "my_dict.values()"
   ]
  },
  {
   "cell_type": "code",
   "execution_count": 9,
   "id": "35ddd4ba",
   "metadata": {},
   "outputs": [
    {
     "data": {
      "text/plain": [
       "{'brand': ['Ford', 'World'], 'model': 'BMW M5', 'year': 1964}"
      ]
     },
     "execution_count": 9,
     "metadata": {},
     "output_type": "execute_result"
    }
   ],
   "source": [
    "my_dict['model']=\"BMW M5\"\n",
    "my_dict"
   ]
  },
  {
   "cell_type": "code",
   "execution_count": null,
   "id": "327f2cb7",
   "metadata": {},
   "outputs": [],
   "source": [
    "my_dict.update({\"year\":2030})\n",
    "my_dict"
   ]
  },
  {
   "cell_type": "code",
   "execution_count": null,
   "id": "cf5a1ea2",
   "metadata": {},
   "outputs": [],
   "source": [
    "my_dict = {\n",
    "  \"brand\": \"Ford\",\n",
    "  \"model\": \"Mustang\",\n",
    "  \"year\": 1964\n",
    "}\n",
    "if \"model\" in my_dict:\n",
    "    print(\"Yes, model exists in dictionary\")\n",
    "else:\n",
    "    print(\"Not exists\")"
   ]
  },
  {
   "cell_type": "code",
   "execution_count": null,
   "id": "2da8b25a",
   "metadata": {},
   "outputs": [],
   "source": [
    "my_dict = {\n",
    "  \"brand\": \"Ford\",\n",
    "  \"model\": \"Mustang\",\n",
    "  \"year\": 1964\n",
    "}\n",
    "if \"Ford\" in my_dict.values():\n",
    "    print(\"Yes, model exists in dictionary\")\n",
    "else:\n",
    "    print(\"Not exists\")"
   ]
  },
  {
   "cell_type": "code",
   "execution_count": null,
   "id": "7d09bdbe",
   "metadata": {},
   "outputs": [],
   "source": [
    "my_dict = {\n",
    "  \"brand\": \"Ford\",\n",
    "  \"model\": \"Mustang\",\n",
    "  \"year\": 1964\n",
    "}\n",
    "my_dict.update({\"color\": \"red\"})\n",
    "my_dict"
   ]
  },
  {
   "cell_type": "code",
   "execution_count": 8,
   "id": "a6cfd686",
   "metadata": {},
   "outputs": [
    {
     "data": {
      "text/plain": [
       "{'brand': ['Ford', 'World'], 'model': 'Mustang', 'year': 1964}"
      ]
     },
     "execution_count": 8,
     "metadata": {},
     "output_type": "execute_result"
    }
   ],
   "source": [
    "my_dict = {\n",
    "  \"brand\": [\"Ford\",\"World\"],\n",
    "  \"model\": \"Mustang\",\n",
    "  \"year\": 1964\n",
    "}\n",
    "#my_dict.pop('model')\n",
    "my_dict"
   ]
  },
  {
   "cell_type": "code",
   "execution_count": 2,
   "id": "6a06fabf",
   "metadata": {},
   "outputs": [
    {
     "data": {
      "text/plain": [
       "[4, 12, 13, 14]"
      ]
     },
     "execution_count": 2,
     "metadata": {},
     "output_type": "execute_result"
    }
   ],
   "source": [
    "ls=[12,13,14]\n",
    "ls.insert(0,4)\n",
    "ls"
   ]
  },
  {
   "cell_type": "code",
   "execution_count": 1,
   "id": "e871c099",
   "metadata": {},
   "outputs": [
    {
     "ename": "TypeError",
     "evalue": "'tuple' object does not support item assignment",
     "output_type": "error",
     "traceback": [
      "\u001b[1;31m---------------------------------------------------------------------------\u001b[0m",
      "\u001b[1;31mTypeError\u001b[0m                                 Traceback (most recent call last)",
      "Input \u001b[1;32mIn [1]\u001b[0m, in \u001b[0;36m<cell line: 2>\u001b[1;34m()\u001b[0m\n\u001b[0;32m      1\u001b[0m tp\u001b[38;5;241m=\u001b[39m(\u001b[38;5;241m12\u001b[39m,\u001b[38;5;241m134\u001b[39m,\u001b[38;5;241m34\u001b[39m,)\n\u001b[1;32m----> 2\u001b[0m tp[\u001b[38;5;241m0\u001b[39m]\u001b[38;5;241m=\u001b[39m\u001b[38;5;241m14\u001b[39m\n",
      "\u001b[1;31mTypeError\u001b[0m: 'tuple' object does not support item assignment"
     ]
    }
   ],
   "source": []
  },
  {
   "cell_type": "code",
   "execution_count": 2,
   "id": "5788dacf",
   "metadata": {},
   "outputs": [
    {
     "name": "stdout",
     "output_type": "stream",
     "text": [
      "2\n"
     ]
    }
   ],
   "source": [
    "my_list = [1, 2, 3, 4, 3, 5]\n",
    "count = my_list.count(3)\n",
    "print(count)  # Output: 2\n"
   ]
  },
  {
   "cell_type": "code",
   "execution_count": 6,
   "id": "75be41ca",
   "metadata": {},
   "outputs": [
    {
     "ename": "TypeError",
     "evalue": "can only concatenate list (not \"tuple\") to list",
     "output_type": "error",
     "traceback": [
      "\u001b[1;31m---------------------------------------------------------------------------\u001b[0m",
      "\u001b[1;31mTypeError\u001b[0m                                 Traceback (most recent call last)",
      "Input \u001b[1;32mIn [6]\u001b[0m, in \u001b[0;36m<cell line: 3>\u001b[1;34m()\u001b[0m\n\u001b[0;32m      1\u001b[0m my_list \u001b[38;5;241m=\u001b[39m [\u001b[38;5;241m1\u001b[39m, \u001b[38;5;241m2\u001b[39m, \u001b[38;5;241m3\u001b[39m, \u001b[38;5;241m4\u001b[39m, \u001b[38;5;241m3\u001b[39m, \u001b[38;5;241m5\u001b[39m]\n\u001b[0;32m      2\u001b[0m tp\u001b[38;5;241m=\u001b[39m(\u001b[38;5;241m12\u001b[39m,\u001b[38;5;241m34\u001b[39m,)\n\u001b[1;32m----> 3\u001b[0m tp1\u001b[38;5;241m=\u001b[39m\u001b[43mmy_list\u001b[49m\u001b[38;5;241;43m+\u001b[39;49m\u001b[43mtp\u001b[49m\n",
      "\u001b[1;31mTypeError\u001b[0m: can only concatenate list (not \"tuple\") to list"
     ]
    }
   ],
   "source": [
    "my_list = [1, 2, 3, 4, 3, 5]\n",
    "tp=(12,34,)\n",
    "tp1=my_list+tp"
   ]
  },
  {
   "cell_type": "code",
   "execution_count": 7,
   "id": "7686ad03",
   "metadata": {},
   "outputs": [
    {
     "data": {
      "text/plain": [
       "{1: 'Ford', 2: 'Mustang', 3: 1964}"
      ]
     },
     "execution_count": 7,
     "metadata": {},
     "output_type": "execute_result"
    }
   ],
   "source": [
    "my_dict = {\n",
    "  1: \"Ford\",\n",
    "  2: \"Mustang\",\n",
    "  3: 1964\n",
    "}\n",
    "my_dict"
   ]
  },
  {
   "cell_type": "code",
   "execution_count": 12,
   "id": "3dcee75d",
   "metadata": {},
   "outputs": [
    {
     "name": "stdout",
     "output_type": "stream",
     "text": [
      "h\n"
     ]
    }
   ],
   "source": [
    "my_dict={\"namr\":\"wasif\"}\n",
    "if \"namr\" in my_dict:\n",
    "    print(\"h\")\n",
    "else:\n",
    "    print(\"no\")"
   ]
  },
  {
   "cell_type": "code",
   "execution_count": null,
   "id": "d8bbd94f",
   "metadata": {},
   "outputs": [],
   "source": []
  }
 ],
 "metadata": {
  "kernelspec": {
   "display_name": "Python 3 (ipykernel)",
   "language": "python",
   "name": "python3"
  },
  "language_info": {
   "codemirror_mode": {
    "name": "ipython",
    "version": 3
   },
   "file_extension": ".py",
   "mimetype": "text/x-python",
   "name": "python",
   "nbconvert_exporter": "python",
   "pygments_lexer": "ipython3",
   "version": "3.9.12"
  }
 },
 "nbformat": 4,
 "nbformat_minor": 5
}
